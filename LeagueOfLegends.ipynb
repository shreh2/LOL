{
 "cells": [
  {
   "cell_type": "code",
   "execution_count": 1,
   "metadata": {
    "_cell_guid": "b1076dfc-b9ad-4769-8c92-a6c4dae69d19",
    "_uuid": "8f2839f25d086af736a60e9eeb907d3b93b6e0e5",
    "execution": {
     "iopub.execute_input": "2020-08-31T02:05:09.318226Z",
     "iopub.status.busy": "2020-08-31T02:05:09.317440Z",
     "iopub.status.idle": "2020-08-31T02:05:10.516012Z",
     "shell.execute_reply": "2020-08-31T02:05:10.517166Z"
    },
    "papermill": {
     "duration": 1.226852,
     "end_time": "2020-08-31T02:05:10.517430",
     "exception": false,
     "start_time": "2020-08-31T02:05:09.290578",
     "status": "completed"
    },
    "tags": []
   },
   "outputs": [
    {
     "name": "stdout",
     "output_type": "stream",
     "text": [
      "/kaggle/input/league-of-legends-diamond-ranked-games-10-min/high_diamond_ranked_10min.csv\n"
     ]
    }
   ],
   "source": [
    "# This Python 3 environment comes with many helpful analytics libraries installed\n",
    "# It is defined by the kaggle/python Docker image: https://github.com/kaggle/docker-python\n",
    "# For example, here's several helpful packages to load\n",
    "\n",
    "import numpy as np # linear algebra\n",
    "import pandas as pd # data processing, CSV file I/O (e.g. pd.read_csv)\n",
    "import seaborn as sns\n",
    "import matplotlib.pyplot as plt\n",
    "from sklearn.model_selection import train_test_split\n",
    "from sklearn.preprocessing import MinMaxScaler\n",
    "from sklearn.linear_model import Lasso\n",
    "from sklearn.feature_selection import SelectKBest, f_classif, mutual_info_classif\n",
    "from sklearn.linear_model import LogisticRegression\n",
    "from sklearn.metrics import confusion_matrix\n",
    "from sklearn.metrics import plot_confusion_matrix\n",
    "from sklearn import metrics\n",
    "\n",
    "# Input data files are available in the read-only \"../input/\" directory\n",
    "# For example, running this (by clicking run or pressing Shift+Enter) will list all files under the input directory\n",
    "\n",
    "import os\n",
    "for dirname, _, filenames in os.walk('/kaggle/input'):\n",
    "    for filename in filenames:\n",
    "        print(os.path.join(dirname, filename))\n",
    "        \n",
    "\n",
    "# You can write up to 5GB to the current directory (/kaggle/working/) that gets preserved as output when you create a version using \"Save & Run All\" \n",
    "# You can also write temporary files to /kaggle/temp/, but they won't be saved outside of the current session"
   ]
  },
  {
   "cell_type": "code",
   "execution_count": 2,
   "metadata": {
    "_cell_guid": "79c7e3d0-c299-4dcb-8224-4455121ee9b0",
    "_uuid": "d629ff2d2480ee46fbb7e2d37f6b5fab8052498a",
    "execution": {
     "iopub.execute_input": "2020-08-31T02:05:10.555279Z",
     "iopub.status.busy": "2020-08-31T02:05:10.554487Z",
     "iopub.status.idle": "2020-08-31T02:05:10.622806Z",
     "shell.execute_reply": "2020-08-31T02:05:10.622042Z"
    },
    "papermill": {
     "duration": 0.088121,
     "end_time": "2020-08-31T02:05:10.622938",
     "exception": false,
     "start_time": "2020-08-31T02:05:10.534817",
     "status": "completed"
    },
    "tags": []
   },
   "outputs": [],
   "source": [
    "hdr10 = pd.read_csv(os.path.join(dirname, filename))"
   ]
  },
  {
   "cell_type": "code",
   "execution_count": 3,
   "metadata": {
    "execution": {
     "iopub.execute_input": "2020-08-31T02:05:10.675778Z",
     "iopub.status.busy": "2020-08-31T02:05:10.674911Z",
     "iopub.status.idle": "2020-08-31T02:05:10.689696Z",
     "shell.execute_reply": "2020-08-31T02:05:10.690272Z"
    },
    "papermill": {
     "duration": 0.052807,
     "end_time": "2020-08-31T02:05:10.690444",
     "exception": false,
     "start_time": "2020-08-31T02:05:10.637637",
     "status": "completed"
    },
    "tags": []
   },
   "outputs": [
    {
     "data": {
      "text/html": [
       "<div>\n",
       "<style scoped>\n",
       "    .dataframe tbody tr th:only-of-type {\n",
       "        vertical-align: middle;\n",
       "    }\n",
       "\n",
       "    .dataframe tbody tr th {\n",
       "        vertical-align: top;\n",
       "    }\n",
       "\n",
       "    .dataframe thead th {\n",
       "        text-align: right;\n",
       "    }\n",
       "</style>\n",
       "<table border=\"1\" class=\"dataframe\">\n",
       "  <thead>\n",
       "    <tr style=\"text-align: right;\">\n",
       "      <th></th>\n",
       "      <th>gameid</th>\n",
       "      <th>bluewins</th>\n",
       "      <th>bluewardsplaced</th>\n",
       "      <th>bluewardsdestroyed</th>\n",
       "      <th>bluefirstblood</th>\n",
       "      <th>bluekills</th>\n",
       "      <th>bluedeaths</th>\n",
       "      <th>blueassists</th>\n",
       "      <th>blueelitemonsters</th>\n",
       "      <th>bluedragons</th>\n",
       "      <th>...</th>\n",
       "      <th>redtowersdestroyed</th>\n",
       "      <th>redtotalgold</th>\n",
       "      <th>redavglevel</th>\n",
       "      <th>redtotalexperience</th>\n",
       "      <th>redtotalminionskilled</th>\n",
       "      <th>redtotaljungleminionskilled</th>\n",
       "      <th>redgolddiff</th>\n",
       "      <th>redexperiencediff</th>\n",
       "      <th>redcspermin</th>\n",
       "      <th>redgoldpermin</th>\n",
       "    </tr>\n",
       "  </thead>\n",
       "  <tbody>\n",
       "    <tr>\n",
       "      <th>0</th>\n",
       "      <td>4519157822</td>\n",
       "      <td>0</td>\n",
       "      <td>28</td>\n",
       "      <td>2</td>\n",
       "      <td>1</td>\n",
       "      <td>9</td>\n",
       "      <td>6</td>\n",
       "      <td>11</td>\n",
       "      <td>0</td>\n",
       "      <td>0</td>\n",
       "      <td>...</td>\n",
       "      <td>0</td>\n",
       "      <td>16567</td>\n",
       "      <td>6.8</td>\n",
       "      <td>17047</td>\n",
       "      <td>197</td>\n",
       "      <td>55</td>\n",
       "      <td>-643</td>\n",
       "      <td>8</td>\n",
       "      <td>19.7</td>\n",
       "      <td>1656.7</td>\n",
       "    </tr>\n",
       "    <tr>\n",
       "      <th>1</th>\n",
       "      <td>4523371949</td>\n",
       "      <td>0</td>\n",
       "      <td>12</td>\n",
       "      <td>1</td>\n",
       "      <td>0</td>\n",
       "      <td>5</td>\n",
       "      <td>5</td>\n",
       "      <td>5</td>\n",
       "      <td>0</td>\n",
       "      <td>0</td>\n",
       "      <td>...</td>\n",
       "      <td>1</td>\n",
       "      <td>17620</td>\n",
       "      <td>6.8</td>\n",
       "      <td>17438</td>\n",
       "      <td>240</td>\n",
       "      <td>52</td>\n",
       "      <td>2908</td>\n",
       "      <td>1173</td>\n",
       "      <td>24.0</td>\n",
       "      <td>1762.0</td>\n",
       "    </tr>\n",
       "    <tr>\n",
       "      <th>2</th>\n",
       "      <td>4521474530</td>\n",
       "      <td>0</td>\n",
       "      <td>15</td>\n",
       "      <td>0</td>\n",
       "      <td>0</td>\n",
       "      <td>7</td>\n",
       "      <td>11</td>\n",
       "      <td>4</td>\n",
       "      <td>1</td>\n",
       "      <td>1</td>\n",
       "      <td>...</td>\n",
       "      <td>0</td>\n",
       "      <td>17285</td>\n",
       "      <td>6.8</td>\n",
       "      <td>17254</td>\n",
       "      <td>203</td>\n",
       "      <td>28</td>\n",
       "      <td>1172</td>\n",
       "      <td>1033</td>\n",
       "      <td>20.3</td>\n",
       "      <td>1728.5</td>\n",
       "    </tr>\n",
       "    <tr>\n",
       "      <th>3</th>\n",
       "      <td>4524384067</td>\n",
       "      <td>0</td>\n",
       "      <td>43</td>\n",
       "      <td>1</td>\n",
       "      <td>0</td>\n",
       "      <td>4</td>\n",
       "      <td>5</td>\n",
       "      <td>5</td>\n",
       "      <td>1</td>\n",
       "      <td>0</td>\n",
       "      <td>...</td>\n",
       "      <td>0</td>\n",
       "      <td>16478</td>\n",
       "      <td>7.0</td>\n",
       "      <td>17961</td>\n",
       "      <td>235</td>\n",
       "      <td>47</td>\n",
       "      <td>1321</td>\n",
       "      <td>7</td>\n",
       "      <td>23.5</td>\n",
       "      <td>1647.8</td>\n",
       "    </tr>\n",
       "    <tr>\n",
       "      <th>4</th>\n",
       "      <td>4436033771</td>\n",
       "      <td>0</td>\n",
       "      <td>75</td>\n",
       "      <td>4</td>\n",
       "      <td>0</td>\n",
       "      <td>6</td>\n",
       "      <td>6</td>\n",
       "      <td>6</td>\n",
       "      <td>0</td>\n",
       "      <td>0</td>\n",
       "      <td>...</td>\n",
       "      <td>0</td>\n",
       "      <td>17404</td>\n",
       "      <td>7.0</td>\n",
       "      <td>18313</td>\n",
       "      <td>225</td>\n",
       "      <td>67</td>\n",
       "      <td>1004</td>\n",
       "      <td>-230</td>\n",
       "      <td>22.5</td>\n",
       "      <td>1740.4</td>\n",
       "    </tr>\n",
       "  </tbody>\n",
       "</table>\n",
       "<p>5 rows × 40 columns</p>\n",
       "</div>"
      ],
      "text/plain": [
       "       gameid  bluewins  bluewardsplaced  bluewardsdestroyed  bluefirstblood  \\\n",
       "0  4519157822         0               28                   2               1   \n",
       "1  4523371949         0               12                   1               0   \n",
       "2  4521474530         0               15                   0               0   \n",
       "3  4524384067         0               43                   1               0   \n",
       "4  4436033771         0               75                   4               0   \n",
       "\n",
       "   bluekills  bluedeaths  blueassists  blueelitemonsters  bluedragons  ...  \\\n",
       "0          9           6           11                  0            0  ...   \n",
       "1          5           5            5                  0            0  ...   \n",
       "2          7          11            4                  1            1  ...   \n",
       "3          4           5            5                  1            0  ...   \n",
       "4          6           6            6                  0            0  ...   \n",
       "\n",
       "   redtowersdestroyed  redtotalgold  redavglevel  redtotalexperience  \\\n",
       "0                   0         16567          6.8               17047   \n",
       "1                   1         17620          6.8               17438   \n",
       "2                   0         17285          6.8               17254   \n",
       "3                   0         16478          7.0               17961   \n",
       "4                   0         17404          7.0               18313   \n",
       "\n",
       "   redtotalminionskilled  redtotaljungleminionskilled  redgolddiff  \\\n",
       "0                    197                           55         -643   \n",
       "1                    240                           52         2908   \n",
       "2                    203                           28         1172   \n",
       "3                    235                           47         1321   \n",
       "4                    225                           67         1004   \n",
       "\n",
       "   redexperiencediff  redcspermin  redgoldpermin  \n",
       "0                  8         19.7         1656.7  \n",
       "1               1173         24.0         1762.0  \n",
       "2               1033         20.3         1728.5  \n",
       "3                  7         23.5         1647.8  \n",
       "4               -230         22.5         1740.4  \n",
       "\n",
       "[5 rows x 40 columns]"
      ]
     },
     "execution_count": 3,
     "metadata": {},
     "output_type": "execute_result"
    }
   ],
   "source": [
    "hdr10.columns = hdr10.columns.str.lower()\n",
    "hdr10.head()"
   ]
  },
  {
   "cell_type": "code",
   "execution_count": 4,
   "metadata": {
    "execution": {
     "iopub.execute_input": "2020-08-31T02:05:10.729676Z",
     "iopub.status.busy": "2020-08-31T02:05:10.728881Z",
     "iopub.status.idle": "2020-08-31T02:05:10.733597Z",
     "shell.execute_reply": "2020-08-31T02:05:10.734207Z"
    },
    "papermill": {
     "duration": 0.027509,
     "end_time": "2020-08-31T02:05:10.734376",
     "exception": false,
     "start_time": "2020-08-31T02:05:10.706867",
     "status": "completed"
    },
    "tags": []
   },
   "outputs": [],
   "source": [
    "hdr10.set_index('gameid',inplace=True)"
   ]
  },
  {
   "cell_type": "markdown",
   "execution_count": null,
   "metadata": {
    "papermill": {
     "duration": 0.014967,
     "end_time": "2020-08-31T02:05:10.764751",
     "exception": false,
     "start_time": "2020-08-31T02:05:10.749784",
     "status": "completed"
    },
    "tags": []
   },
   "source": [
    "## EDA"
   ]
  },
  {
   "cell_type": "code",
   "execution_count": 5,
   "metadata": {
    "execution": {
     "iopub.execute_input": "2020-08-31T02:05:10.801357Z",
     "iopub.status.busy": "2020-08-31T02:05:10.800598Z",
     "iopub.status.idle": "2020-08-31T02:05:10.822695Z",
     "shell.execute_reply": "2020-08-31T02:05:10.823612Z"
    },
    "papermill": {
     "duration": 0.043833,
     "end_time": "2020-08-31T02:05:10.823836",
     "exception": false,
     "start_time": "2020-08-31T02:05:10.780003",
     "status": "completed"
    },
    "tags": []
   },
   "outputs": [
    {
     "name": "stdout",
     "output_type": "stream",
     "text": [
      "<class 'pandas.core.frame.DataFrame'>\n",
      "Int64Index: 9879 entries, 4519157822 to 4523772935\n",
      "Data columns (total 39 columns):\n",
      " #   Column                        Non-Null Count  Dtype  \n",
      "---  ------                        --------------  -----  \n",
      " 0   bluewins                      9879 non-null   int64  \n",
      " 1   bluewardsplaced               9879 non-null   int64  \n",
      " 2   bluewardsdestroyed            9879 non-null   int64  \n",
      " 3   bluefirstblood                9879 non-null   int64  \n",
      " 4   bluekills                     9879 non-null   int64  \n",
      " 5   bluedeaths                    9879 non-null   int64  \n",
      " 6   blueassists                   9879 non-null   int64  \n",
      " 7   blueelitemonsters             9879 non-null   int64  \n",
      " 8   bluedragons                   9879 non-null   int64  \n",
      " 9   blueheralds                   9879 non-null   int64  \n",
      " 10  bluetowersdestroyed           9879 non-null   int64  \n",
      " 11  bluetotalgold                 9879 non-null   int64  \n",
      " 12  blueavglevel                  9879 non-null   float64\n",
      " 13  bluetotalexperience           9879 non-null   int64  \n",
      " 14  bluetotalminionskilled        9879 non-null   int64  \n",
      " 15  bluetotaljungleminionskilled  9879 non-null   int64  \n",
      " 16  bluegolddiff                  9879 non-null   int64  \n",
      " 17  blueexperiencediff            9879 non-null   int64  \n",
      " 18  bluecspermin                  9879 non-null   float64\n",
      " 19  bluegoldpermin                9879 non-null   float64\n",
      " 20  redwardsplaced                9879 non-null   int64  \n",
      " 21  redwardsdestroyed             9879 non-null   int64  \n",
      " 22  redfirstblood                 9879 non-null   int64  \n",
      " 23  redkills                      9879 non-null   int64  \n",
      " 24  reddeaths                     9879 non-null   int64  \n",
      " 25  redassists                    9879 non-null   int64  \n",
      " 26  redelitemonsters              9879 non-null   int64  \n",
      " 27  reddragons                    9879 non-null   int64  \n",
      " 28  redheralds                    9879 non-null   int64  \n",
      " 29  redtowersdestroyed            9879 non-null   int64  \n",
      " 30  redtotalgold                  9879 non-null   int64  \n",
      " 31  redavglevel                   9879 non-null   float64\n",
      " 32  redtotalexperience            9879 non-null   int64  \n",
      " 33  redtotalminionskilled         9879 non-null   int64  \n",
      " 34  redtotaljungleminionskilled   9879 non-null   int64  \n",
      " 35  redgolddiff                   9879 non-null   int64  \n",
      " 36  redexperiencediff             9879 non-null   int64  \n",
      " 37  redcspermin                   9879 non-null   float64\n",
      " 38  redgoldpermin                 9879 non-null   float64\n",
      "dtypes: float64(6), int64(33)\n",
      "memory usage: 3.0 MB\n"
     ]
    }
   ],
   "source": [
    "hdr10.info()"
   ]
  },
  {
   "cell_type": "code",
   "execution_count": 6,
   "metadata": {
    "execution": {
     "iopub.execute_input": "2020-08-31T02:05:10.864628Z",
     "iopub.status.busy": "2020-08-31T02:05:10.863893Z",
     "iopub.status.idle": "2020-08-31T02:05:10.871882Z",
     "shell.execute_reply": "2020-08-31T02:05:10.871199Z"
    },
    "papermill": {
     "duration": 0.029446,
     "end_time": "2020-08-31T02:05:10.872003",
     "exception": false,
     "start_time": "2020-08-31T02:05:10.842557",
     "status": "completed"
    },
    "tags": []
   },
   "outputs": [
    {
     "data": {
      "text/plain": [
       "0    4949\n",
       "1    4930\n",
       "Name: bluewins, dtype: int64"
      ]
     },
     "execution_count": 6,
     "metadata": {},
     "output_type": "execute_result"
    }
   ],
   "source": [
    "hdr10.bluewins.value_counts()"
   ]
  },
  {
   "cell_type": "code",
   "execution_count": 7,
   "metadata": {
    "execution": {
     "iopub.execute_input": "2020-08-31T02:05:10.908767Z",
     "iopub.status.busy": "2020-08-31T02:05:10.908021Z",
     "iopub.status.idle": "2020-08-31T02:05:16.737042Z",
     "shell.execute_reply": "2020-08-31T02:05:16.737678Z"
    },
    "papermill": {
     "duration": 5.849813,
     "end_time": "2020-08-31T02:05:16.737841",
     "exception": false,
     "start_time": "2020-08-31T02:05:10.888028",
     "status": "completed"
    },
    "tags": []
   },
   "outputs": [
    {
     "data": {
      "image/png": "[encoded data removed]",
      "text/plain": [
       "<Figure size 1080x1296 with 42 Axes>"
      ]
     },
     "metadata": {
      "needs_background": "light"
     },
     "output_type": "display_data"
    }
   ],
   "source": [
    "#plt.figure(figsize=[15,15])\n",
    "hdr10.hist(figsize=[15,18]);\n",
    "#plt.show()"
   ]
  },
  {
   "cell_type": "code",
   "execution_count": 8,
   "metadata": {
    "execution": {
     "iopub.execute_input": "2020-08-31T02:05:16.778786Z",
     "iopub.status.busy": "2020-08-31T02:05:16.777926Z",
     "iopub.status.idle": "2020-08-31T02:05:16.782000Z",
     "shell.execute_reply": "2020-08-31T02:05:16.781282Z"
    },
    "papermill": {
     "duration": 0.026894,
     "end_time": "2020-08-31T02:05:16.782128",
     "exception": false,
     "start_time": "2020-08-31T02:05:16.755234",
     "status": "completed"
    },
    "tags": []
   },
   "outputs": [
    {
     "data": {
      "text/plain": [
       "Index(['bluewins', 'bluewardsplaced', 'bluewardsdestroyed', 'bluefirstblood',\n",
       "       'bluekills', 'bluedeaths', 'blueassists', 'blueelitemonsters',\n",
       "       'bluedragons', 'blueheralds', 'bluetowersdestroyed', 'bluetotalgold',\n",
       "       'blueavglevel', 'bluetotalexperience', 'bluetotalminionskilled',\n",
       "       'bluetotaljungleminionskilled', 'bluegolddiff', 'blueexperiencediff',\n",
       "       'bluecspermin', 'bluegoldpermin', 'redwardsplaced', 'redwardsdestroyed',\n",
       "       'redfirstblood', 'redkills', 'reddeaths', 'redassists',\n",
       "       'redelitemonsters', 'reddragons', 'redheralds', 'redtowersdestroyed',\n",
       "       'redtotalgold', 'redavglevel', 'redtotalexperience',\n",
       "       'redtotalminionskilled', 'redtotaljungleminionskilled', 'redgolddiff',\n",
       "       'redexperiencediff', 'redcspermin', 'redgoldpermin'],\n",
       "      dtype='object')"
      ]
     },
     "execution_count": 8,
     "metadata": {},
     "output_type": "execute_result"
    }
   ],
   "source": [
    "hdr10.columns"
   ]
  },
  {
   "cell_type": "code",
   "execution_count": 9,
   "metadata": {
    "execution": {
     "iopub.execute_input": "2020-08-31T02:05:16.822634Z",
     "iopub.status.busy": "2020-08-31T02:05:16.821848Z",
     "iopub.status.idle": "2020-08-31T02:05:16.841738Z",
     "shell.execute_reply": "2020-08-31T02:05:16.840925Z"
    },
    "papermill": {
     "duration": 0.042505,
     "end_time": "2020-08-31T02:05:16.841882",
     "exception": false,
     "start_time": "2020-08-31T02:05:16.799377",
     "status": "completed"
    },
    "tags": []
   },
   "outputs": [],
   "source": [
    "hdr10['minionskilldifference'] = hdr10[\"bluetotalminionskilled\"]-hdr10[\"redtotalminionskilled\"]"
   ]
  },
  {
   "cell_type": "code",
   "execution_count": 10,
   "metadata": {
    "execution": {
     "iopub.execute_input": "2020-08-31T02:05:16.891999Z",
     "iopub.status.busy": "2020-08-31T02:05:16.890766Z",
     "iopub.status.idle": "2020-08-31T02:05:16.900647Z",
     "shell.execute_reply": "2020-08-31T02:05:16.899884Z"
    },
    "papermill": {
     "duration": 0.041532,
     "end_time": "2020-08-31T02:05:16.900769",
     "exception": false,
     "start_time": "2020-08-31T02:05:16.859237",
     "status": "completed"
    },
    "tags": []
   },
   "outputs": [],
   "source": [
    "minionkillpositive_temp = hdr10.query(\"minionskilldifference>0\")['bluewins']\n",
    "minionkillpositive_pie = minionkillpositive_temp.value_counts()"
   ]
  },
  {
   "cell_type": "code",
   "execution_count": 11,
   "metadata": {
    "execution": {
     "iopub.execute_input": "2020-08-31T02:05:16.943817Z",
     "iopub.status.busy": "2020-08-31T02:05:16.942786Z",
     "iopub.status.idle": "2020-08-31T02:05:16.946332Z",
     "shell.execute_reply": "2020-08-31T02:05:16.945749Z"
    },
    "papermill": {
     "duration": 0.028388,
     "end_time": "2020-08-31T02:05:16.946457",
     "exception": false,
     "start_time": "2020-08-31T02:05:16.918069",
     "status": "completed"
    },
    "tags": []
   },
   "outputs": [],
   "source": [
    "minionkillpositive_pie.rename(index={1: \"Won\", 0:\"Lost\"}, inplace=True)"
   ]
  },
  {
   "cell_type": "code",
   "execution_count": 12,
   "metadata": {
    "execution": {
     "iopub.execute_input": "2020-08-31T02:05:16.991418Z",
     "iopub.status.busy": "2020-08-31T02:05:16.986077Z",
     "iopub.status.idle": "2020-08-31T02:05:17.000568Z",
     "shell.execute_reply": "2020-08-31T02:05:16.999941Z"
    },
    "papermill": {
     "duration": 0.036899,
     "end_time": "2020-08-31T02:05:17.000699",
     "exception": false,
     "start_time": "2020-08-31T02:05:16.963800",
     "status": "completed"
    },
    "tags": []
   },
   "outputs": [],
   "source": [
    "minionkillnegative_temp = hdr10.query(\"minionskilldifference<=0\")['bluewins']\n",
    "minionkillnegative_pie = minionkillnegative_temp.value_counts()"
   ]
  },
  {
   "cell_type": "code",
   "execution_count": 13,
   "metadata": {
    "execution": {
     "iopub.execute_input": "2020-08-31T02:05:17.043912Z",
     "iopub.status.busy": "2020-08-31T02:05:17.043030Z",
     "iopub.status.idle": "2020-08-31T02:05:17.047679Z",
     "shell.execute_reply": "2020-08-31T02:05:17.046939Z"
    },
    "papermill": {
     "duration": 0.029696,
     "end_time": "2020-08-31T02:05:17.047799",
     "exception": false,
     "start_time": "2020-08-31T02:05:17.018103",
     "status": "completed"
    },
    "tags": []
   },
   "outputs": [
    {
     "data": {
      "text/plain": [
       "Lost    3180\n",
       "Won     1922\n",
       "Name: bluewins, dtype: int64"
      ]
     },
     "execution_count": 13,
     "metadata": {},
     "output_type": "execute_result"
    }
   ],
   "source": [
    "minionkillnegative_pie.rename(index={1: \"Won\", 0:\"Lost\"}, inplace=True)\n",
    "minionkillnegative_pie"
   ]
  },
  {
   "cell_type": "code",
   "execution_count": 14,
   "metadata": {
    "execution": {
     "iopub.execute_input": "2020-08-31T02:05:17.101720Z",
     "iopub.status.busy": "2020-08-31T02:05:17.100578Z",
     "iopub.status.idle": "2020-08-31T02:05:17.223012Z",
     "shell.execute_reply": "2020-08-31T02:05:17.223597Z"
    },
    "papermill": {
     "duration": 0.158124,
     "end_time": "2020-08-31T02:05:17.223750",
     "exception": false,
     "start_time": "2020-08-31T02:05:17.065626",
     "status": "completed"
    },
    "tags": []
   },
   "outputs": [
    {
     "data": {
      "image/png": "[encoded data removed]",
      "text/plain": [
       "<Figure size 1000x800 with 2 Axes>"
      ]
     },
     "metadata": {},
     "output_type": "display_data"
    }
   ],
   "source": [
    "fig = plt.figure(figsize=(10,8), dpi=100)\n",
    "ax1 = plt.subplot2grid((2,1),(0,0))\n",
    "plt.pie(minionkillpositive_pie, labels=minionkillpositive_pie.index, explode= (0,0.05),\n",
    "       colors=['YellowGreen', 'Coral'],\n",
    "       autopct='%1.1f%%', startangle=70)\n",
    "plt.title(\"Blue Team Win Percentage with More Minion Kills than Red Team\", fontsize=10, color='Black')\n",
    "\n",
    "ax1 = plt.subplot2grid((2,1),(1,0))\n",
    "plt.pie(minionkillnegative_pie, labels=minionkillnegative_pie.index, explode= (0,0.05),\n",
    "       colors=['Coral', 'Yellowgreen'],\n",
    "       autopct='%1.1f%%', startangle=70)\n",
    "plt.title(\"Blue Team Win Percentage with Less Minion Kills than Red Team\", fontsize=10, color='Black');"
   ]
  },
  {
   "cell_type": "code",
   "execution_count": 15,
   "metadata": {
    "execution": {
     "iopub.execute_input": "2020-08-31T02:05:17.286859Z",
     "iopub.status.busy": "2020-08-31T02:05:17.285811Z",
     "iopub.status.idle": "2020-08-31T02:05:17.290897Z",
     "shell.execute_reply": "2020-08-31T02:05:17.290162Z"
    },
    "papermill": {
     "duration": 0.049168,
     "end_time": "2020-08-31T02:05:17.291029",
     "exception": false,
     "start_time": "2020-08-31T02:05:17.241861",
     "status": "completed"
    },
    "tags": []
   },
   "outputs": [
    {
     "data": {
      "text/html": [
       "<div>\n",
       "<style scoped>\n",
       "    .dataframe tbody tr th:only-of-type {\n",
       "        vertical-align: middle;\n",
       "    }\n",
       "\n",
       "    .dataframe tbody tr th {\n",
       "        vertical-align: top;\n",
       "    }\n",
       "\n",
       "    .dataframe thead th {\n",
       "        text-align: right;\n",
       "    }\n",
       "</style>\n",
       "<table border=\"1\" class=\"dataframe\">\n",
       "  <thead>\n",
       "    <tr style=\"text-align: right;\">\n",
       "      <th></th>\n",
       "      <th>bluewins</th>\n",
       "      <th>bluewardsplaced</th>\n",
       "      <th>bluewardsdestroyed</th>\n",
       "      <th>bluefirstblood</th>\n",
       "      <th>bluekills</th>\n",
       "      <th>bluedeaths</th>\n",
       "      <th>blueassists</th>\n",
       "      <th>blueelitemonsters</th>\n",
       "      <th>bluedragons</th>\n",
       "      <th>blueheralds</th>\n",
       "      <th>...</th>\n",
       "      <th>redtotalgold</th>\n",
       "      <th>redavglevel</th>\n",
       "      <th>redtotalexperience</th>\n",
       "      <th>redtotalminionskilled</th>\n",
       "      <th>redtotaljungleminionskilled</th>\n",
       "      <th>redgolddiff</th>\n",
       "      <th>redexperiencediff</th>\n",
       "      <th>redcspermin</th>\n",
       "      <th>redgoldpermin</th>\n",
       "      <th>minionskilldifference</th>\n",
       "    </tr>\n",
       "    <tr>\n",
       "      <th>gameid</th>\n",
       "      <th></th>\n",
       "      <th></th>\n",
       "      <th></th>\n",
       "      <th></th>\n",
       "      <th></th>\n",
       "      <th></th>\n",
       "      <th></th>\n",
       "      <th></th>\n",
       "      <th></th>\n",
       "      <th></th>\n",
       "      <th></th>\n",
       "      <th></th>\n",
       "      <th></th>\n",
       "      <th></th>\n",
       "      <th></th>\n",
       "      <th></th>\n",
       "      <th></th>\n",
       "      <th></th>\n",
       "      <th></th>\n",
       "      <th></th>\n",
       "      <th></th>\n",
       "    </tr>\n",
       "  </thead>\n",
       "  <tbody>\n",
       "    <tr>\n",
       "      <th>4519157822</th>\n",
       "      <td>0</td>\n",
       "      <td>28</td>\n",
       "      <td>2</td>\n",
       "      <td>1</td>\n",
       "      <td>9</td>\n",
       "      <td>6</td>\n",
       "      <td>11</td>\n",
       "      <td>0</td>\n",
       "      <td>0</td>\n",
       "      <td>0</td>\n",
       "      <td>...</td>\n",
       "      <td>16567</td>\n",
       "      <td>6.8</td>\n",
       "      <td>17047</td>\n",
       "      <td>197</td>\n",
       "      <td>55</td>\n",
       "      <td>-643</td>\n",
       "      <td>8</td>\n",
       "      <td>19.7</td>\n",
       "      <td>1656.7</td>\n",
       "      <td>-2</td>\n",
       "    </tr>\n",
       "    <tr>\n",
       "      <th>4523371949</th>\n",
       "      <td>0</td>\n",
       "      <td>12</td>\n",
       "      <td>1</td>\n",
       "      <td>0</td>\n",
       "      <td>5</td>\n",
       "      <td>5</td>\n",
       "      <td>5</td>\n",
       "      <td>0</td>\n",
       "      <td>0</td>\n",
       "      <td>0</td>\n",
       "      <td>...</td>\n",
       "      <td>17620</td>\n",
       "      <td>6.8</td>\n",
       "      <td>17438</td>\n",
       "      <td>240</td>\n",
       "      <td>52</td>\n",
       "      <td>2908</td>\n",
       "      <td>1173</td>\n",
       "      <td>24.0</td>\n",
       "      <td>1762.0</td>\n",
       "      <td>-66</td>\n",
       "    </tr>\n",
       "    <tr>\n",
       "      <th>4521474530</th>\n",
       "      <td>0</td>\n",
       "      <td>15</td>\n",
       "      <td>0</td>\n",
       "      <td>0</td>\n",
       "      <td>7</td>\n",
       "      <td>11</td>\n",
       "      <td>4</td>\n",
       "      <td>1</td>\n",
       "      <td>1</td>\n",
       "      <td>0</td>\n",
       "      <td>...</td>\n",
       "      <td>17285</td>\n",
       "      <td>6.8</td>\n",
       "      <td>17254</td>\n",
       "      <td>203</td>\n",
       "      <td>28</td>\n",
       "      <td>1172</td>\n",
       "      <td>1033</td>\n",
       "      <td>20.3</td>\n",
       "      <td>1728.5</td>\n",
       "      <td>-17</td>\n",
       "    </tr>\n",
       "    <tr>\n",
       "      <th>4524384067</th>\n",
       "      <td>0</td>\n",
       "      <td>43</td>\n",
       "      <td>1</td>\n",
       "      <td>0</td>\n",
       "      <td>4</td>\n",
       "      <td>5</td>\n",
       "      <td>5</td>\n",
       "      <td>1</td>\n",
       "      <td>0</td>\n",
       "      <td>1</td>\n",
       "      <td>...</td>\n",
       "      <td>16478</td>\n",
       "      <td>7.0</td>\n",
       "      <td>17961</td>\n",
       "      <td>235</td>\n",
       "      <td>47</td>\n",
       "      <td>1321</td>\n",
       "      <td>7</td>\n",
       "      <td>23.5</td>\n",
       "      <td>1647.8</td>\n",
       "      <td>-34</td>\n",
       "    </tr>\n",
       "    <tr>\n",
       "      <th>4436033771</th>\n",
       "      <td>0</td>\n",
       "      <td>75</td>\n",
       "      <td>4</td>\n",
       "      <td>0</td>\n",
       "      <td>6</td>\n",
       "      <td>6</td>\n",
       "      <td>6</td>\n",
       "      <td>0</td>\n",
       "      <td>0</td>\n",
       "      <td>0</td>\n",
       "      <td>...</td>\n",
       "      <td>17404</td>\n",
       "      <td>7.0</td>\n",
       "      <td>18313</td>\n",
       "      <td>225</td>\n",
       "      <td>67</td>\n",
       "      <td>1004</td>\n",
       "      <td>-230</td>\n",
       "      <td>22.5</td>\n",
       "      <td>1740.4</td>\n",
       "      <td>-15</td>\n",
       "    </tr>\n",
       "  </tbody>\n",
       "</table>\n",
       "<p>5 rows × 40 columns</p>\n",
       "</div>"
      ],
      "text/plain": [
       "            bluewins  bluewardsplaced  bluewardsdestroyed  bluefirstblood  \\\n",
       "gameid                                                                      \n",
       "4519157822         0               28                   2               1   \n",
       "4523371949         0               12                   1               0   \n",
       "4521474530         0               15                   0               0   \n",
       "4524384067         0               43                   1               0   \n",
       "4436033771         0               75                   4               0   \n",
       "\n",
       "            bluekills  bluedeaths  blueassists  blueelitemonsters  \\\n",
       "gameid                                                              \n",
       "4519157822          9           6           11                  0   \n",
       "4523371949          5           5            5                  0   \n",
       "4521474530          7          11            4                  1   \n",
       "4524384067          4           5            5                  1   \n",
       "4436033771          6           6            6                  0   \n",
       "\n",
       "            bluedragons  blueheralds  ...  redtotalgold  redavglevel  \\\n",
       "gameid                                ...                              \n",
       "4519157822            0            0  ...         16567          6.8   \n",
       "4523371949            0            0  ...         17620          6.8   \n",
       "4521474530            1            0  ...         17285          6.8   \n",
       "4524384067            0            1  ...         16478          7.0   \n",
       "4436033771            0            0  ...         17404          7.0   \n",
       "\n",
       "            redtotalexperience  redtotalminionskilled  \\\n",
       "gameid                                                  \n",
       "4519157822               17047                    197   \n",
       "4523371949               17438                    240   \n",
       "4521474530               17254                    203   \n",
       "4524384067               17961                    235   \n",
       "4436033771               18313                    225   \n",
       "\n",
       "            redtotaljungleminionskilled  redgolddiff  redexperiencediff  \\\n",
       "gameid                                                                    \n",
       "4519157822                           55         -643                  8   \n",
       "4523371949                           52         2908               1173   \n",
       "4521474530                           28         1172               1033   \n",
       "4524384067                           47         1321                  7   \n",
       "4436033771                           67         1004               -230   \n",
       "\n",
       "            redcspermin  redgoldpermin  minionskilldifference  \n",
       "gameid                                                         \n",
       "4519157822         19.7         1656.7                     -2  \n",
       "4523371949         24.0         1762.0                    -66  \n",
       "4521474530         20.3         1728.5                    -17  \n",
       "4524384067         23.5         1647.8                    -34  \n",
       "4436033771         22.5         1740.4                    -15  \n",
       "\n",
       "[5 rows x 40 columns]"
      ]
     },
     "execution_count": 15,
     "metadata": {},
     "output_type": "execute_result"
    }
   ],
   "source": [
    "hdr10.head()"
   ]
  },
  {
   "cell_type": "code",
   "execution_count": 16,
   "metadata": {
    "execution": {
     "iopub.execute_input": "2020-08-31T02:05:17.335369Z",
     "iopub.status.busy": "2020-08-31T02:05:17.334564Z",
     "iopub.status.idle": "2020-08-31T02:05:17.337894Z",
     "shell.execute_reply": "2020-08-31T02:05:17.337113Z"
    },
    "papermill": {
     "duration": 0.028255,
     "end_time": "2020-08-31T02:05:17.338021",
     "exception": false,
     "start_time": "2020-08-31T02:05:17.309766",
     "status": "completed"
    },
    "tags": []
   },
   "outputs": [],
   "source": [
    "#kills difference\n",
    "hdr10[\"championkilldifference\"] = hdr10[\"bluekills\"] - hdr10[\"redkills\"]"
   ]
  },
  {
   "cell_type": "code",
   "execution_count": 17,
   "metadata": {
    "execution": {
     "iopub.execute_input": "2020-08-31T02:05:17.387222Z",
     "iopub.status.busy": "2020-08-31T02:05:17.386468Z",
     "iopub.status.idle": "2020-08-31T02:05:17.396478Z",
     "shell.execute_reply": "2020-08-31T02:05:17.395702Z"
    },
    "papermill": {
     "duration": 0.039831,
     "end_time": "2020-08-31T02:05:17.396602",
     "exception": false,
     "start_time": "2020-08-31T02:05:17.356771",
     "status": "completed"
    },
    "tags": []
   },
   "outputs": [],
   "source": [
    "champkillpositive_temp = hdr10.query(\"championkilldifference>0\")['bluewins']\n",
    "champkillpositive_pie = champkillpositive_temp.value_counts()\n",
    "champkillpositive_pie.rename(index={1: \"Won\", 0:\"Lost\"}, inplace=True)"
   ]
  },
  {
   "cell_type": "code",
   "execution_count": 18,
   "metadata": {
    "execution": {
     "iopub.execute_input": "2020-08-31T02:05:17.447797Z",
     "iopub.status.busy": "2020-08-31T02:05:17.446626Z",
     "iopub.status.idle": "2020-08-31T02:05:17.454366Z",
     "shell.execute_reply": "2020-08-31T02:05:17.453708Z"
    },
    "papermill": {
     "duration": 0.039039,
     "end_time": "2020-08-31T02:05:17.454500",
     "exception": false,
     "start_time": "2020-08-31T02:05:17.415461",
     "status": "completed"
    },
    "tags": []
   },
   "outputs": [],
   "source": [
    "champkillnegative_temp = hdr10.query(\"championkilldifference<=0\")['bluewins']\n",
    "champkillnegative_pie = champkillnegative_temp.value_counts()\n",
    "champkillnegative_pie.rename(index={1: \"Won\", 0:\"Lost\"}, inplace=True)"
   ]
  },
  {
   "cell_type": "code",
   "execution_count": 19,
   "metadata": {
    "execution": {
     "iopub.execute_input": "2020-08-31T02:05:17.512074Z",
     "iopub.status.busy": "2020-08-31T02:05:17.508623Z",
     "iopub.status.idle": "2020-08-31T02:05:17.643991Z",
     "shell.execute_reply": "2020-08-31T02:05:17.643246Z"
    },
    "papermill": {
     "duration": 0.170405,
     "end_time": "2020-08-31T02:05:17.644113",
     "exception": false,
     "start_time": "2020-08-31T02:05:17.473708",
     "status": "completed"
    },
    "tags": []
   },
   "outputs": [
    {
     "data": {
      "image/png": "[encoded data removed]",
      "text/plain": [
       "<Figure size 1000x800 with 2 Axes>"
      ]
     },
     "metadata": {},
     "output_type": "display_data"
    }
   ],
   "source": [
    "fig = plt.figure(figsize=(10,8), dpi=100)\n",
    "ax1 = plt.subplot2grid((2,1),(0,0))\n",
    "plt.pie(champkillpositive_pie, labels=champkillpositive_pie.index, explode= (0,0.05),\n",
    "       colors=['YellowGreen', 'Coral'],\n",
    "       autopct='%1.1f%%', startangle=70)\n",
    "plt.title(\"Blue Team Win Percentage with More Champion Kills than Red Team in First 10 Minutes\", fontsize=10, color='Black')\n",
    "\n",
    "ax1 = plt.subplot2grid((2,1),(1,0))\n",
    "plt.pie(champkillnegative_pie, labels=champkillnegative_pie.index, explode= (0,0.05),\n",
    "       colors=['Coral', 'Yellowgreen'],\n",
    "       autopct='%1.1f%%', startangle=70)\n",
    "plt.title(\"Blue Team Win Percentage with Less Champion Kills than Red Team in First 10 Minutes\", fontsize=10, color='Black');"
   ]
  },
  {
   "cell_type": "code",
   "execution_count": 20,
   "metadata": {
    "execution": {
     "iopub.execute_input": "2020-08-31T02:05:17.698820Z",
     "iopub.status.busy": "2020-08-31T02:05:17.698015Z",
     "iopub.status.idle": "2020-08-31T02:05:17.719546Z",
     "shell.execute_reply": "2020-08-31T02:05:17.718706Z"
    },
    "papermill": {
     "duration": 0.056186,
     "end_time": "2020-08-31T02:05:17.719674",
     "exception": false,
     "start_time": "2020-08-31T02:05:17.663488",
     "status": "completed"
    },
    "tags": []
   },
   "outputs": [],
   "source": [
    "hdr10['wardsdifference'] = hdr10[\"bluewardsplaced\"]-hdr10[\"redwardsplaced\"]\n",
    "\n",
    "wardsdifferencepositive_temp = hdr10.query(\"wardsdifference>0\")['bluewins']\n",
    "wardsdifferencepositive_pie = wardsdifferencepositive_temp.value_counts()\n",
    "wardsdifferencepositive_pie.rename(index={1: \"Won\", 0:\"Lost\"}, inplace=True)\n",
    "\n",
    "wardsdifferencenegative_temp = hdr10.query(\"wardsdifference<=0\")['bluewins']\n",
    "wardsdifferencenegative_pie = wardsdifferencenegative_temp.value_counts()\n",
    "wardsdifferencenegative_pie.rename(index={1: \"Won\", 0:\"Lost\"}, inplace=True)"
   ]
  },
  {
   "cell_type": "code",
   "execution_count": 21,
   "metadata": {
    "execution": {
     "iopub.execute_input": "2020-08-31T02:05:17.777173Z",
     "iopub.status.busy": "2020-08-31T02:05:17.776002Z",
     "iopub.status.idle": "2020-08-31T02:05:17.904400Z",
     "shell.execute_reply": "2020-08-31T02:05:17.903775Z"
    },
    "papermill": {
     "duration": 0.165241,
     "end_time": "2020-08-31T02:05:17.904520",
     "exception": false,
     "start_time": "2020-08-31T02:05:17.739279",
     "status": "completed"
    },
    "tags": []
   },
   "outputs": [
    {
     "data": {
      "image/png": "[encoded data removed]",
      "text/plain": [
       "<Figure size 1000x800 with 2 Axes>"
      ]
     },
     "metadata": {},
     "output_type": "display_data"
    }
   ],
   "source": [
    "fig = plt.figure(figsize=(10,8), dpi=100)\n",
    "ax1 = plt.subplot2grid((2,1),(0,0))\n",
    "plt.pie(wardsdifferencepositive_pie, labels=wardsdifferencepositive_pie.index, explode= (0,0.05),\n",
    "       colors=['YellowGreen', 'Coral'],\n",
    "       autopct='%1.1f%%', startangle=70)\n",
    "plt.title(\"Blue Team Win Percentage with More Wards Placed than Red Team in First 10 Minutes\", fontsize=10, color='Black')\n",
    "\n",
    "ax1 = plt.subplot2grid((2,1),(1,0))\n",
    "plt.pie(wardsdifferencenegative_pie, labels=wardsdifferencenegative_pie.index, explode= (0,0.05),\n",
    "       colors=['Coral', 'Yellowgreen'],\n",
    "       autopct='%1.1f%%', startangle=70)\n",
    "plt.title(\"Blue Team Win Percentage with Less Wards Placed than Red Team in First 10 Minutes\", fontsize=10, color='Black');"
   ]
  },
  {
   "cell_type": "code",
   "execution_count": 22,
   "metadata": {
    "execution": {
     "iopub.execute_input": "2020-08-31T02:05:17.950896Z",
     "iopub.status.busy": "2020-08-31T02:05:17.950045Z",
     "iopub.status.idle": "2020-08-31T02:05:17.954019Z",
     "shell.execute_reply": "2020-08-31T02:05:17.954561Z"
    },
    "papermill": {
     "duration": 0.03028,
     "end_time": "2020-08-31T02:05:17.954718",
     "exception": false,
     "start_time": "2020-08-31T02:05:17.924438",
     "status": "completed"
    },
    "tags": []
   },
   "outputs": [
    {
     "data": {
      "text/plain": [
       "'#Ratio of kills to deaths \\nhdr10[\"killtodeathratio\"] = hdr10[\"bluekills\"]/hdr10[\"bluedeaths\"]\\n\\nkilldeathratioabove1_temp = hdr10.query(\"killtodeathratio>=1\")[\"bluewins\"] \\nkilldeathratioabove1_graph = killdeathratioabove1_temp.value_counts() \\nkilldeathratioabove1_graph.rename(index={1:\"Won\",0:\"Lost\"}, inplace=True)\\n\\nkilldeathratiobelow1_temp = hdr10.query(\"killtodeathratio<1\")[\"bluewins\"] \\nkilldeathratiobelow1_graph = killdeathratiobelow1_temp.value_counts() \\nkilldeathratiobelow1_graph.rename(index={1:\"Won\",0:\"Lost\"}, inplace=True)'"
      ]
     },
     "execution_count": 22,
     "metadata": {},
     "output_type": "execute_result"
    }
   ],
   "source": [
    "\"\"\"#Ratio of kills to deaths \n",
    "hdr10[\"killtodeathratio\"] = hdr10[\"bluekills\"]/hdr10[\"bluedeaths\"]\n",
    "\n",
    "killdeathratioabove1_temp = hdr10.query(\"killtodeathratio>=1\")[\"bluewins\"] \n",
    "killdeathratioabove1_graph = killdeathratioabove1_temp.value_counts() \n",
    "killdeathratioabove1_graph.rename(index={1:\"Won\",0:\"Lost\"}, inplace=True)\n",
    "\n",
    "killdeathratiobelow1_temp = hdr10.query(\"killtodeathratio<1\")[\"bluewins\"] \n",
    "killdeathratiobelow1_graph = killdeathratiobelow1_temp.value_counts() \n",
    "killdeathratiobelow1_graph.rename(index={1:\"Won\",0:\"Lost\"}, inplace=True)\"\"\""
   ]
  },
  {
   "cell_type": "code",
   "execution_count": 23,
   "metadata": {
    "execution": {
     "iopub.execute_input": "2020-08-31T02:05:18.001161Z",
     "iopub.status.busy": "2020-08-31T02:05:18.000234Z",
     "iopub.status.idle": "2020-08-31T02:05:18.004596Z",
     "shell.execute_reply": "2020-08-31T02:05:18.005116Z"
    },
    "papermill": {
     "duration": 0.030254,
     "end_time": "2020-08-31T02:05:18.005279",
     "exception": false,
     "start_time": "2020-08-31T02:05:17.975025",
     "status": "completed"
    },
    "tags": []
   },
   "outputs": [
    {
     "data": {
      "text/plain": [
       "'fig = plt.figure(figsize=(10,8), dpi=100)\\nax1 = plt.subplot2grid((2,1),(0,0))\\nplt.pie(killdeathratioabove1_graph, labels=killdeathratioabove1_graph.index, explode= (0,0.05),\\n       colors=[\\'YellowGreen\\', \\'Coral\\'],\\n       autopct=\\'%1.1f%%\\', startangle=70)\\nplt.title(\"Blue Team Win Percentage with more kills than deaths in first 10 Minutes\", fontsize=10, color=\\'Black\\')\\n\\nax1 = plt.subplot2grid((2,1),(1,0))\\nplt.pie(killdeathratiobelow1_graph, labels=killdeathratiobelow1_graph.index, explode= (0,0.05),\\n       colors=[\\'Coral\\', \\'Yellowgreen\\'],\\n       autopct=\\'%1.1f%%\\', startangle=70)\\nplt.title(\"Blue Team Win Percentage with less kills than deaths in first 10 Minutes\", fontsize=10, color=\\'Black\\');'"
      ]
     },
     "execution_count": 23,
     "metadata": {},
     "output_type": "execute_result"
    }
   ],
   "source": [
    "\"\"\"fig = plt.figure(figsize=(10,8), dpi=100)\n",
    "ax1 = plt.subplot2grid((2,1),(0,0))\n",
    "plt.pie(killdeathratioabove1_graph, labels=killdeathratioabove1_graph.index, explode= (0,0.05),\n",
    "       colors=['YellowGreen', 'Coral'],\n",
    "       autopct='%1.1f%%', startangle=70)\n",
    "plt.title(\"Blue Team Win Percentage with more kills than deaths in first 10 Minutes\", fontsize=10, color='Black')\n",
    "\n",
    "ax1 = plt.subplot2grid((2,1),(1,0))\n",
    "plt.pie(killdeathratiobelow1_graph, labels=killdeathratiobelow1_graph.index, explode= (0,0.05),\n",
    "       colors=['Coral', 'Yellowgreen'],\n",
    "       autopct='%1.1f%%', startangle=70)\n",
    "plt.title(\"Blue Team Win Percentage with less kills than deaths in first 10 Minutes\", fontsize=10, color='Black');\"\"\""
   ]
  },
  {
   "cell_type": "markdown",
   "execution_count": null,
   "metadata": {
    "papermill": {
     "duration": 0.019909,
     "end_time": "2020-08-31T02:05:18.045506",
     "exception": false,
     "start_time": "2020-08-31T02:05:18.025597",
     "status": "completed"
    },
    "tags": []
   },
   "source": [
    "## Scaling and Feature Selection"
   ]
  },
  {
   "cell_type": "code",
   "execution_count": 24,
   "metadata": {
    "execution": {
     "iopub.execute_input": "2020-08-31T02:05:18.093266Z",
     "iopub.status.busy": "2020-08-31T02:05:18.092088Z",
     "iopub.status.idle": "2020-08-31T02:05:18.268634Z",
     "shell.execute_reply": "2020-08-31T02:05:18.267965Z"
    },
    "papermill": {
     "duration": 0.202894,
     "end_time": "2020-08-31T02:05:18.268760",
     "exception": false,
     "start_time": "2020-08-31T02:05:18.065866",
     "status": "completed"
    },
    "tags": []
   },
   "outputs": [],
   "source": [
    "hdr10_scaled = hdr10.copy()\n",
    "\n",
    "# Create the scaler with object range of 0-1\n",
    "scaler = MinMaxScaler()\n",
    "\n",
    "# Fit and transform using the training data\n",
    "hdr10_scaled[hdr10_scaled.columns] = scaler.fit_transform(hdr10[hdr10.columns])"
   ]
  },
  {
   "cell_type": "code",
   "execution_count": 25,
   "metadata": {
    "execution": {
     "iopub.execute_input": "2020-08-31T02:05:18.315636Z",
     "iopub.status.busy": "2020-08-31T02:05:18.314762Z",
     "iopub.status.idle": "2020-08-31T02:05:18.345549Z",
     "shell.execute_reply": "2020-08-31T02:05:18.344795Z"
    },
    "papermill": {
     "duration": 0.056519,
     "end_time": "2020-08-31T02:05:18.345675",
     "exception": false,
     "start_time": "2020-08-31T02:05:18.289156",
     "status": "completed"
    },
    "tags": []
   },
   "outputs": [
    {
     "data": {
      "text/html": [
       "<div>\n",
       "<style scoped>\n",
       "    .dataframe tbody tr th:only-of-type {\n",
       "        vertical-align: middle;\n",
       "    }\n",
       "\n",
       "    .dataframe tbody tr th {\n",
       "        vertical-align: top;\n",
       "    }\n",
       "\n",
       "    .dataframe thead th {\n",
       "        text-align: right;\n",
       "    }\n",
       "</style>\n",
       "<table border=\"1\" class=\"dataframe\">\n",
       "  <thead>\n",
       "    <tr style=\"text-align: right;\">\n",
       "      <th></th>\n",
       "      <th>bluewins</th>\n",
       "      <th>bluewardsplaced</th>\n",
       "      <th>bluewardsdestroyed</th>\n",
       "      <th>bluefirstblood</th>\n",
       "      <th>bluekills</th>\n",
       "      <th>bluedeaths</th>\n",
       "      <th>blueassists</th>\n",
       "      <th>blueelitemonsters</th>\n",
       "      <th>bluedragons</th>\n",
       "      <th>blueheralds</th>\n",
       "      <th>...</th>\n",
       "      <th>redtotalexperience</th>\n",
       "      <th>redtotalminionskilled</th>\n",
       "      <th>redtotaljungleminionskilled</th>\n",
       "      <th>redgolddiff</th>\n",
       "      <th>redexperiencediff</th>\n",
       "      <th>redcspermin</th>\n",
       "      <th>redgoldpermin</th>\n",
       "      <th>minionskilldifference</th>\n",
       "      <th>championkilldifference</th>\n",
       "      <th>wardsdifference</th>\n",
       "    </tr>\n",
       "    <tr>\n",
       "      <th>gameid</th>\n",
       "      <th></th>\n",
       "      <th></th>\n",
       "      <th></th>\n",
       "      <th></th>\n",
       "      <th></th>\n",
       "      <th></th>\n",
       "      <th></th>\n",
       "      <th></th>\n",
       "      <th></th>\n",
       "      <th></th>\n",
       "      <th></th>\n",
       "      <th></th>\n",
       "      <th></th>\n",
       "      <th></th>\n",
       "      <th></th>\n",
       "      <th></th>\n",
       "      <th></th>\n",
       "      <th></th>\n",
       "      <th></th>\n",
       "      <th></th>\n",
       "      <th></th>\n",
       "    </tr>\n",
       "  </thead>\n",
       "  <tbody>\n",
       "    <tr>\n",
       "      <th>4519157822</th>\n",
       "      <td>0.0</td>\n",
       "      <td>0.093878</td>\n",
       "      <td>0.074074</td>\n",
       "      <td>1.0</td>\n",
       "      <td>0.409091</td>\n",
       "      <td>0.272727</td>\n",
       "      <td>0.379310</td>\n",
       "      <td>0.0</td>\n",
       "      <td>0.0</td>\n",
       "      <td>0.0</td>\n",
       "      <td>...</td>\n",
       "      <td>0.557608</td>\n",
       "      <td>0.494505</td>\n",
       "      <td>0.579545</td>\n",
       "      <td>0.485446</td>\n",
       "      <td>0.472598</td>\n",
       "      <td>0.494505</td>\n",
       "      <td>0.464844</td>\n",
       "      <td>0.477733</td>\n",
       "      <td>0.606061</td>\n",
       "      <td>0.552632</td>\n",
       "    </tr>\n",
       "    <tr>\n",
       "      <th>4523371949</th>\n",
       "      <td>0.0</td>\n",
       "      <td>0.028571</td>\n",
       "      <td>0.037037</td>\n",
       "      <td>0.0</td>\n",
       "      <td>0.227273</td>\n",
       "      <td>0.227273</td>\n",
       "      <td>0.172414</td>\n",
       "      <td>0.0</td>\n",
       "      <td>0.0</td>\n",
       "      <td>0.0</td>\n",
       "      <td>...</td>\n",
       "      <td>0.590732</td>\n",
       "      <td>0.730769</td>\n",
       "      <td>0.545455</td>\n",
       "      <td>0.644706</td>\n",
       "      <td>0.538488</td>\n",
       "      <td>0.730769</td>\n",
       "      <td>0.556250</td>\n",
       "      <td>0.218623</td>\n",
       "      <td>0.515152</td>\n",
       "      <td>0.526316</td>\n",
       "    </tr>\n",
       "    <tr>\n",
       "      <th>4521474530</th>\n",
       "      <td>0.0</td>\n",
       "      <td>0.040816</td>\n",
       "      <td>0.000000</td>\n",
       "      <td>0.0</td>\n",
       "      <td>0.318182</td>\n",
       "      <td>0.500000</td>\n",
       "      <td>0.137931</td>\n",
       "      <td>0.5</td>\n",
       "      <td>1.0</td>\n",
       "      <td>0.0</td>\n",
       "      <td>...</td>\n",
       "      <td>0.575144</td>\n",
       "      <td>0.527473</td>\n",
       "      <td>0.272727</td>\n",
       "      <td>0.566848</td>\n",
       "      <td>0.530570</td>\n",
       "      <td>0.527473</td>\n",
       "      <td>0.527170</td>\n",
       "      <td>0.417004</td>\n",
       "      <td>0.393939</td>\n",
       "      <td>0.526316</td>\n",
       "    </tr>\n",
       "    <tr>\n",
       "      <th>4524384067</th>\n",
       "      <td>0.0</td>\n",
       "      <td>0.155102</td>\n",
       "      <td>0.037037</td>\n",
       "      <td>0.0</td>\n",
       "      <td>0.181818</td>\n",
       "      <td>0.227273</td>\n",
       "      <td>0.172414</td>\n",
       "      <td>0.5</td>\n",
       "      <td>0.0</td>\n",
       "      <td>1.0</td>\n",
       "      <td>...</td>\n",
       "      <td>0.635039</td>\n",
       "      <td>0.703297</td>\n",
       "      <td>0.488636</td>\n",
       "      <td>0.573530</td>\n",
       "      <td>0.472541</td>\n",
       "      <td>0.703297</td>\n",
       "      <td>0.457118</td>\n",
       "      <td>0.348178</td>\n",
       "      <td>0.484848</td>\n",
       "      <td>0.582996</td>\n",
       "    </tr>\n",
       "    <tr>\n",
       "      <th>4436033771</th>\n",
       "      <td>0.0</td>\n",
       "      <td>0.285714</td>\n",
       "      <td>0.148148</td>\n",
       "      <td>0.0</td>\n",
       "      <td>0.272727</td>\n",
       "      <td>0.272727</td>\n",
       "      <td>0.206897</td>\n",
       "      <td>0.0</td>\n",
       "      <td>0.0</td>\n",
       "      <td>0.0</td>\n",
       "      <td>...</td>\n",
       "      <td>0.664859</td>\n",
       "      <td>0.648352</td>\n",
       "      <td>0.715909</td>\n",
       "      <td>0.559313</td>\n",
       "      <td>0.459137</td>\n",
       "      <td>0.648352</td>\n",
       "      <td>0.537500</td>\n",
       "      <td>0.425101</td>\n",
       "      <td>0.515152</td>\n",
       "      <td>0.643725</td>\n",
       "    </tr>\n",
       "  </tbody>\n",
       "</table>\n",
       "<p>5 rows × 42 columns</p>\n",
       "</div>"
      ],
      "text/plain": [
       "            bluewins  bluewardsplaced  bluewardsdestroyed  bluefirstblood  \\\n",
       "gameid                                                                      \n",
       "4519157822       0.0         0.093878            0.074074             1.0   \n",
       "4523371949       0.0         0.028571            0.037037             0.0   \n",
       "4521474530       0.0         0.040816            0.000000             0.0   \n",
       "4524384067       0.0         0.155102            0.037037             0.0   \n",
       "4436033771       0.0         0.285714            0.148148             0.0   \n",
       "\n",
       "            bluekills  bluedeaths  blueassists  blueelitemonsters  \\\n",
       "gameid                                                              \n",
       "4519157822   0.409091    0.272727     0.379310                0.0   \n",
       "4523371949   0.227273    0.227273     0.172414                0.0   \n",
       "4521474530   0.318182    0.500000     0.137931                0.5   \n",
       "4524384067   0.181818    0.227273     0.172414                0.5   \n",
       "4436033771   0.272727    0.272727     0.206897                0.0   \n",
       "\n",
       "            bluedragons  blueheralds  ...  redtotalexperience  \\\n",
       "gameid                                ...                       \n",
       "4519157822          0.0          0.0  ...            0.557608   \n",
       "4523371949          0.0          0.0  ...            0.590732   \n",
       "4521474530          1.0          0.0  ...            0.575144   \n",
       "4524384067          0.0          1.0  ...            0.635039   \n",
       "4436033771          0.0          0.0  ...            0.664859   \n",
       "\n",
       "            redtotalminionskilled  redtotaljungleminionskilled  redgolddiff  \\\n",
       "gameid                                                                        \n",
       "4519157822               0.494505                     0.579545     0.485446   \n",
       "4523371949               0.730769                     0.545455     0.644706   \n",
       "4521474530               0.527473                     0.272727     0.566848   \n",
       "4524384067               0.703297                     0.488636     0.573530   \n",
       "4436033771               0.648352                     0.715909     0.559313   \n",
       "\n",
       "            redexperiencediff  redcspermin  redgoldpermin  \\\n",
       "gameid                                                      \n",
       "4519157822           0.472598     0.494505       0.464844   \n",
       "4523371949           0.538488     0.730769       0.556250   \n",
       "4521474530           0.530570     0.527473       0.527170   \n",
       "4524384067           0.472541     0.703297       0.457118   \n",
       "4436033771           0.459137     0.648352       0.537500   \n",
       "\n",
       "            minionskilldifference  championkilldifference  wardsdifference  \n",
       "gameid                                                                      \n",
       "4519157822               0.477733                0.606061         0.552632  \n",
       "4523371949               0.218623                0.515152         0.526316  \n",
       "4521474530               0.417004                0.393939         0.526316  \n",
       "4524384067               0.348178                0.484848         0.582996  \n",
       "4436033771               0.425101                0.515152         0.643725  \n",
       "\n",
       "[5 rows x 42 columns]"
      ]
     },
     "execution_count": 25,
     "metadata": {},
     "output_type": "execute_result"
    }
   ],
   "source": [
    "hdr10_scaled.head()"
   ]
  },
  {
   "cell_type": "code",
   "execution_count": 26,
   "metadata": {
    "execution": {
     "iopub.execute_input": "2020-08-31T02:05:18.395444Z",
     "iopub.status.busy": "2020-08-31T02:05:18.394507Z",
     "iopub.status.idle": "2020-08-31T02:05:18.398463Z",
     "shell.execute_reply": "2020-08-31T02:05:18.399087Z"
    },
    "papermill": {
     "duration": 0.03228,
     "end_time": "2020-08-31T02:05:18.399237",
     "exception": false,
     "start_time": "2020-08-31T02:05:18.366957",
     "status": "completed"
    },
    "tags": []
   },
   "outputs": [
    {
     "data": {
      "text/plain": [
       "Index(['bluewardsplaced', 'bluewardsdestroyed', 'bluefirstblood', 'bluekills',\n",
       "       'bluedeaths', 'blueassists', 'blueelitemonsters', 'bluedragons',\n",
       "       'blueheralds', 'bluetowersdestroyed', 'bluetotalgold', 'blueavglevel',\n",
       "       'bluetotalexperience', 'bluetotalminionskilled',\n",
       "       'bluetotaljungleminionskilled', 'bluegolddiff', 'blueexperiencediff',\n",
       "       'bluecspermin', 'bluegoldpermin', 'redwardsplaced', 'redwardsdestroyed',\n",
       "       'redfirstblood', 'redkills', 'reddeaths', 'redassists',\n",
       "       'redelitemonsters', 'reddragons', 'redheralds', 'redtowersdestroyed',\n",
       "       'redtotalgold', 'redavglevel', 'redtotalexperience',\n",
       "       'redtotalminionskilled', 'redtotaljungleminionskilled', 'redgolddiff',\n",
       "       'redexperiencediff', 'redcspermin', 'redgoldpermin',\n",
       "       'minionskilldifference', 'championkilldifference', 'wardsdifference'],\n",
       "      dtype='object')"
      ]
     },
     "execution_count": 26,
     "metadata": {},
     "output_type": "execute_result"
    }
   ],
   "source": [
    "features=hdr10_scaled.columns[1:]\n",
    "features"
   ]
  },
  {
   "cell_type": "code",
   "execution_count": 27,
   "metadata": {
    "execution": {
     "iopub.execute_input": "2020-08-31T02:05:18.451037Z",
     "iopub.status.busy": "2020-08-31T02:05:18.449497Z",
     "iopub.status.idle": "2020-08-31T02:05:18.464634Z",
     "shell.execute_reply": "2020-08-31T02:05:18.463971Z"
    },
    "papermill": {
     "duration": 0.044396,
     "end_time": "2020-08-31T02:05:18.464761",
     "exception": false,
     "start_time": "2020-08-31T02:05:18.420365",
     "status": "completed"
    },
    "tags": []
   },
   "outputs": [],
   "source": [
    "X_train_temp, X_test, y_train_temp, y_test = train_test_split(hdr10_scaled[features], \n",
    "                                                              hdr10_scaled[\"bluewins\"], \n",
    "                                                              test_size=0.2, \n",
    "                                                              random_state=20)\n",
    "# Perform the second split\n",
    "X_train, X_valid, y_train, y_valid = train_test_split(X_train_temp, y_train_temp, \n",
    "                                                      test_size=0.25, random_state=20)"
   ]
  },
  {
   "cell_type": "markdown",
   "execution_count": null,
   "metadata": {
    "papermill": {
     "duration": 0.020589,
     "end_time": "2020-08-31T02:05:18.506626",
     "exception": false,
     "start_time": "2020-08-31T02:05:18.486037",
     "status": "completed"
    },
    "tags": []
   },
   "source": [
    "#### Feature selection using lasso regression"
   ]
  },
  {
   "cell_type": "code",
   "execution_count": 28,
   "metadata": {
    "execution": {
     "iopub.execute_input": "2020-08-31T02:05:18.561241Z",
     "iopub.status.busy": "2020-08-31T02:05:18.560076Z",
     "iopub.status.idle": "2020-08-31T02:05:18.956686Z",
     "shell.execute_reply": "2020-08-31T02:05:18.956001Z"
    },
    "papermill": {
     "duration": 0.429131,
     "end_time": "2020-08-31T02:05:18.956809",
     "exception": false,
     "start_time": "2020-08-31T02:05:18.527678",
     "status": "completed"
    },
    "tags": []
   },
   "outputs": [
    {
     "data": {
      "text/plain": [
       "Text(0, 0.5, 'Coefficients')"
      ]
     },
     "execution_count": 28,
     "metadata": {},
     "output_type": "execute_result"
    },
    {
     "data": {
      "image/png": "[encoded data removed]",
      "text/plain": [
       "<Figure size 1440x720 with 1 Axes>"
      ]
     },
     "metadata": {
      "needs_background": "light"
     },
     "output_type": "display_data"
    }
   ],
   "source": [
    "# Create the model\n",
    "lasso = Lasso(alpha=0.01)\n",
    "\n",
    "# Fit the model to the training data\n",
    "lasso.fit(X_train, y_train)\n",
    "\n",
    "# Extract the coefficients\n",
    "lasso_coef = lasso.coef_\n",
    "\n",
    "# Plot the coefficients\n",
    "plt.figure(figsize=(20, 10))\n",
    "plt.plot(range(len(X_train.columns)), lasso_coef)\n",
    "plt.xticks(range(len(X_train.columns)), X_train.columns, rotation=60)\n",
    "plt.axhline(0.0, linestyle='--', color='r')\n",
    "plt.ylabel('Coefficients')"
   ]
  },
  {
   "cell_type": "code",
   "execution_count": 29,
   "metadata": {
    "execution": {
     "iopub.execute_input": "2020-08-31T02:05:19.017543Z",
     "iopub.status.busy": "2020-08-31T02:05:19.016564Z",
     "iopub.status.idle": "2020-08-31T02:05:19.023444Z",
     "shell.execute_reply": "2020-08-31T02:05:19.022724Z"
    },
    "papermill": {
     "duration": 0.043961,
     "end_time": "2020-08-31T02:05:19.023567",
     "exception": false,
     "start_time": "2020-08-31T02:05:18.979606",
     "status": "completed"
    },
    "tags": []
   },
   "outputs": [
    {
     "name": "stdout",
     "output_type": "stream",
     "text": [
      "    lasso_coef                features\n",
      "7     0.053716             bluedragons\n",
      "15    0.421491            bluegolddiff\n",
      "16    0.364399      blueexperiencediff\n",
      "21   -0.053715           redfirstblood\n",
      "26   -0.051248              reddragons\n",
      "34   -0.000938             redgolddiff\n",
      "35   -0.000946       redexperiencediff\n",
      "39    0.543153  championkilldifference\n"
     ]
    },
    {
     "data": {
      "text/plain": [
       "7                bluedragons\n",
       "15              bluegolddiff\n",
       "16        blueexperiencediff\n",
       "21             redfirstblood\n",
       "26                reddragons\n",
       "34               redgolddiff\n",
       "35         redexperiencediff\n",
       "39    championkilldifference\n",
       "Name: features, dtype: object"
      ]
     },
     "execution_count": 29,
     "metadata": {},
     "output_type": "execute_result"
    }
   ],
   "source": [
    "temp = pd.DataFrame(X_train.columns.values, lasso_coef)\n",
    "temp.reset_index(inplace=True)\n",
    "temp.columns=['lasso_coef','features']\n",
    "print(temp[temp['lasso_coef']!=0])\n",
    "\n",
    "lasso_selected_features = temp[temp['lasso_coef']!=0]['features']\n",
    "lasso_selected_features"
   ]
  },
  {
   "cell_type": "code",
   "execution_count": 30,
   "metadata": {
    "execution": {
     "iopub.execute_input": "2020-08-31T02:05:19.079686Z",
     "iopub.status.busy": "2020-08-31T02:05:19.078835Z",
     "iopub.status.idle": "2020-08-31T02:05:19.082326Z",
     "shell.execute_reply": "2020-08-31T02:05:19.081657Z"
    },
    "papermill": {
     "duration": 0.036457,
     "end_time": "2020-08-31T02:05:19.082466",
     "exception": false,
     "start_time": "2020-08-31T02:05:19.046009",
     "status": "completed"
    },
    "tags": []
   },
   "outputs": [],
   "source": [
    "#Dataset with features selected by Lasso\n",
    "lasso_Xtrain = X_train.loc[:,lasso_selected_features]\n",
    "lasso_Xvalid = X_valid.loc[:,lasso_selected_features]\n",
    "lasso_Xtest = X_test.loc[:,lasso_selected_features]"
   ]
  },
  {
   "cell_type": "code",
   "execution_count": 31,
   "metadata": {
    "execution": {
     "iopub.execute_input": "2020-08-31T02:05:19.138121Z",
     "iopub.status.busy": "2020-08-31T02:05:19.137348Z",
     "iopub.status.idle": "2020-08-31T02:05:21.522412Z",
     "shell.execute_reply": "2020-08-31T02:05:21.521631Z"
    },
    "papermill": {
     "duration": 2.417373,
     "end_time": "2020-08-31T02:05:21.522539",
     "exception": false,
     "start_time": "2020-08-31T02:05:19.105166",
     "status": "completed"
    },
    "tags": []
   },
   "outputs": [
    {
     "data": {
      "text/plain": [
       "Index(['bluetotalgold', 'bluegolddiff', 'blueexperiencediff', 'bluegoldpermin',\n",
       "       'redtotalexperience', 'redgolddiff', 'redexperiencediff',\n",
       "       'championkilldifference'],\n",
       "      dtype='object')"
      ]
     },
     "execution_count": 31,
     "metadata": {},
     "output_type": "execute_result"
    }
   ],
   "source": [
    "# Feature selection based on SelectKBest\n",
    "select_k_best_classifier = SelectKBest(score_func=mutual_info_classif, k=8)\n",
    "select_k_best_classifier.fit_transform(X_train, y_train)\n",
    "mask = select_k_best_classifier.get_support()\n",
    "\n",
    "kbest_selected_features = X_train.columns[mask]\n",
    "kbest_selected_features"
   ]
  },
  {
   "cell_type": "code",
   "execution_count": 32,
   "metadata": {
    "execution": {
     "iopub.execute_input": "2020-08-31T02:05:21.577696Z",
     "iopub.status.busy": "2020-08-31T02:05:21.576572Z",
     "iopub.status.idle": "2020-08-31T02:05:21.579007Z",
     "shell.execute_reply": "2020-08-31T02:05:21.579584Z"
    },
    "papermill": {
     "duration": 0.034583,
     "end_time": "2020-08-31T02:05:21.579749",
     "exception": false,
     "start_time": "2020-08-31T02:05:21.545166",
     "status": "completed"
    },
    "tags": []
   },
   "outputs": [],
   "source": [
    "#Dataset with features selected by Kbest\n",
    "kbest_Xtrain = X_train.loc[:,kbest_selected_features]\n",
    "kbest_Xvalid = X_valid.loc[:,kbest_selected_features]\n",
    "kbest_Xtest = X_test.loc[:,kbest_selected_features]"
   ]
  },
  {
   "cell_type": "markdown",
   "execution_count": null,
   "metadata": {
    "papermill": {
     "duration": 0.022157,
     "end_time": "2020-08-31T02:05:21.624485",
     "exception": false,
     "start_time": "2020-08-31T02:05:21.602328",
     "status": "completed"
    },
    "tags": []
   },
   "source": [
    "## Logistic Regression"
   ]
  },
  {
   "cell_type": "code",
   "execution_count": 33,
   "metadata": {
    "execution": {
     "iopub.execute_input": "2020-08-31T02:05:21.678503Z",
     "iopub.status.busy": "2020-08-31T02:05:21.677467Z",
     "iopub.status.idle": "2020-08-31T02:05:21.726790Z",
     "shell.execute_reply": "2020-08-31T02:05:21.726017Z"
    },
    "papermill": {
     "duration": 0.079933,
     "end_time": "2020-08-31T02:05:21.726934",
     "exception": false,
     "start_time": "2020-08-31T02:05:21.647001",
     "status": "completed"
    },
    "tags": []
   },
   "outputs": [],
   "source": [
    "#Training logistic regression model on features selected by lasso\n",
    "lasso_lr= LogisticRegression()\n",
    "lasso_lr.fit(lasso_Xtrain,y_train)\n",
    "lasso_ypred=lasso_lr.predict(lasso_Xvalid)"
   ]
  },
  {
   "cell_type": "code",
   "execution_count": 34,
   "metadata": {
    "execution": {
     "iopub.execute_input": "2020-08-31T02:05:21.787864Z",
     "iopub.status.busy": "2020-08-31T02:05:21.782514Z",
     "iopub.status.idle": "2020-08-31T02:05:21.966356Z",
     "shell.execute_reply": "2020-08-31T02:05:21.965744Z"
    },
    "papermill": {
     "duration": 0.213858,
     "end_time": "2020-08-31T02:05:21.966485",
     "exception": false,
     "start_time": "2020-08-31T02:05:21.752627",
     "status": "completed"
    },
    "tags": []
   },
   "outputs": [
    {
     "data": {
      "text/plain": [
       "<sklearn.metrics._plot.confusion_matrix.ConfusionMatrixDisplay at 0x7f1c97a81bd0>"
      ]
     },
     "execution_count": 34,
     "metadata": {},
     "output_type": "execute_result"
    },
    {
     "data": {
      "image/png": "[encoded data removed]",
      "text/plain": [
       "<Figure size 432x288 with 2 Axes>"
      ]
     },
     "metadata": {
      "needs_background": "light"
     },
     "output_type": "display_data"
    }
   ],
   "source": [
    " plot_confusion_matrix(lasso_lr, lasso_Xvalid, y_valid) "
   ]
  },
  {
   "cell_type": "code",
   "execution_count": 35,
   "metadata": {
    "execution": {
     "iopub.execute_input": "2020-08-31T02:05:22.020904Z",
     "iopub.status.busy": "2020-08-31T02:05:22.020171Z",
     "iopub.status.idle": "2020-08-31T02:05:22.191378Z",
     "shell.execute_reply": "2020-08-31T02:05:22.190680Z"
    },
    "papermill": {
     "duration": 0.201909,
     "end_time": "2020-08-31T02:05:22.191503",
     "exception": false,
     "start_time": "2020-08-31T02:05:21.989594",
     "status": "completed"
    },
    "tags": []
   },
   "outputs": [
    {
     "data": {
      "text/plain": [
       "<sklearn.metrics._plot.confusion_matrix.ConfusionMatrixDisplay at 0x7f1c98cd8350>"
      ]
     },
     "execution_count": 35,
     "metadata": {},
     "output_type": "execute_result"
    },
    {
     "data": {
      "image/png": "[encoded data removed]",
      "text/plain": [
       "<Figure size 432x288 with 2 Axes>"
      ]
     },
     "metadata": {
      "needs_background": "light"
     },
     "output_type": "display_data"
    }
   ],
   "source": [
    "plot_confusion_matrix(lasso_lr, lasso_Xtest, y_test) "
   ]
  },
  {
   "cell_type": "code",
   "execution_count": 36,
   "metadata": {
    "execution": {
     "iopub.execute_input": "2020-08-31T02:05:22.245090Z",
     "iopub.status.busy": "2020-08-31T02:05:22.244285Z",
     "iopub.status.idle": "2020-08-31T02:05:22.250053Z",
     "shell.execute_reply": "2020-08-31T02:05:22.249094Z"
    },
    "papermill": {
     "duration": 0.034943,
     "end_time": "2020-08-31T02:05:22.250207",
     "exception": false,
     "start_time": "2020-08-31T02:05:22.215264",
     "status": "completed"
    },
    "tags": []
   },
   "outputs": [
    {
     "name": "stdout",
     "output_type": "stream",
     "text": [
      "Accuracy based on Lasso Features:  0.7317813765182186\n"
     ]
    }
   ],
   "source": [
    "#checking accuracy of regression model on validation data set with features selected by lasso \n",
    "print('Accuracy based on Lasso Features: ',metrics.accuracy_score(y_valid, lasso_ypred))\n",
    "plt.show()"
   ]
  },
  {
   "cell_type": "code",
   "execution_count": 37,
   "metadata": {
    "execution": {
     "iopub.execute_input": "2020-08-31T02:05:22.306761Z",
     "iopub.status.busy": "2020-08-31T02:05:22.305856Z",
     "iopub.status.idle": "2020-08-31T02:05:22.350389Z",
     "shell.execute_reply": "2020-08-31T02:05:22.349633Z"
    },
    "papermill": {
     "duration": 0.07626,
     "end_time": "2020-08-31T02:05:22.350542",
     "exception": false,
     "start_time": "2020-08-31T02:05:22.274282",
     "status": "completed"
    },
    "tags": []
   },
   "outputs": [],
   "source": [
    "#Training logistic regression model on test data set to check the accuracy\n",
    "lasso_lr= LogisticRegression()\n",
    "lasso_lr.fit(lasso_Xtrain,y_train)\n",
    "lasso_ypredtest=lasso_lr.predict(lasso_Xtest)"
   ]
  },
  {
   "cell_type": "code",
   "execution_count": 38,
   "metadata": {
    "execution": {
     "iopub.execute_input": "2020-08-31T02:05:22.407058Z",
     "iopub.status.busy": "2020-08-31T02:05:22.406195Z",
     "iopub.status.idle": "2020-08-31T02:05:22.413515Z",
     "shell.execute_reply": "2020-08-31T02:05:22.412578Z"
    },
    "papermill": {
     "duration": 0.036755,
     "end_time": "2020-08-31T02:05:22.413690",
     "exception": false,
     "start_time": "2020-08-31T02:05:22.376935",
     "status": "completed"
    },
    "tags": []
   },
   "outputs": [
    {
     "name": "stdout",
     "output_type": "stream",
     "text": [
      "Accuracy based on Lasso Features : 0.7160931174089069\n"
     ]
    }
   ],
   "source": [
    "print('Accuracy based on Lasso Features :',metrics.accuracy_score(y_test,lasso_ypredtest))"
   ]
  },
  {
   "cell_type": "code",
   "execution_count": 39,
   "metadata": {
    "execution": {
     "iopub.execute_input": "2020-08-31T02:05:22.472975Z",
     "iopub.status.busy": "2020-08-31T02:05:22.472201Z",
     "iopub.status.idle": "2020-08-31T02:05:22.519952Z",
     "shell.execute_reply": "2020-08-31T02:05:22.518811Z"
    },
    "papermill": {
     "duration": 0.081694,
     "end_time": "2020-08-31T02:05:22.520094",
     "exception": false,
     "start_time": "2020-08-31T02:05:22.438400",
     "status": "completed"
    },
    "tags": []
   },
   "outputs": [],
   "source": [
    "#Training logistic regression model on validation dataset with features from kbest\n",
    "kbest_lr= LogisticRegression()\n",
    "kbest_lr.fit(kbest_Xtrain,y_train)\n",
    "kbest_ypred=kbest_lr.predict(kbest_Xvalid)"
   ]
  },
  {
   "cell_type": "code",
   "execution_count": 40,
   "metadata": {
    "execution": {
     "iopub.execute_input": "2020-08-31T02:05:22.577231Z",
     "iopub.status.busy": "2020-08-31T02:05:22.576476Z",
     "iopub.status.idle": "2020-08-31T02:05:22.749731Z",
     "shell.execute_reply": "2020-08-31T02:05:22.750248Z"
    },
    "papermill": {
     "duration": 0.206179,
     "end_time": "2020-08-31T02:05:22.750429",
     "exception": false,
     "start_time": "2020-08-31T02:05:22.544250",
     "status": "completed"
    },
    "tags": []
   },
   "outputs": [
    {
     "data": {
      "text/plain": [
       "<sklearn.metrics._plot.confusion_matrix.ConfusionMatrixDisplay at 0x7f1c9792ca90>"
      ]
     },
     "execution_count": 40,
     "metadata": {},
     "output_type": "execute_result"
    },
    {
     "data": {
      "image/png": "[encoded data removed]",
      "text/plain": [
       "<Figure size 432x288 with 2 Axes>"
      ]
     },
     "metadata": {
      "needs_background": "light"
     },
     "output_type": "display_data"
    }
   ],
   "source": [
    " plot_confusion_matrix(kbest_lr, kbest_Xvalid, y_valid) "
   ]
  },
  {
   "cell_type": "code",
   "execution_count": 41,
   "metadata": {
    "execution": {
     "iopub.execute_input": "2020-08-31T02:05:22.807647Z",
     "iopub.status.busy": "2020-08-31T02:05:22.806587Z",
     "iopub.status.idle": "2020-08-31T02:05:23.184142Z",
     "shell.execute_reply": "2020-08-31T02:05:23.184709Z"
    },
    "papermill": {
     "duration": 0.410032,
     "end_time": "2020-08-31T02:05:23.184905",
     "exception": false,
     "start_time": "2020-08-31T02:05:22.774873",
     "status": "completed"
    },
    "tags": []
   },
   "outputs": [
    {
     "data": {
      "text/plain": [
       "<sklearn.metrics._plot.confusion_matrix.ConfusionMatrixDisplay at 0x7f1c978a93d0>"
      ]
     },
     "execution_count": 41,
     "metadata": {},
     "output_type": "execute_result"
    },
    {
     "data": {
      "image/png": "[encoded data removed]",
      "text/plain": [
       "<Figure size 432x288 with 2 Axes>"
      ]
     },
     "metadata": {
      "needs_background": "light"
     },
     "output_type": "display_data"
    }
   ],
   "source": [
    "plot_confusion_matrix(kbest_lr, kbest_Xtest, y_test) "
   ]
  },
  {
   "cell_type": "code",
   "execution_count": 42,
   "metadata": {
    "execution": {
     "iopub.execute_input": "2020-08-31T02:05:23.242065Z",
     "iopub.status.busy": "2020-08-31T02:05:23.240891Z",
     "iopub.status.idle": "2020-08-31T02:05:23.246637Z",
     "shell.execute_reply": "2020-08-31T02:05:23.245906Z"
    },
    "papermill": {
     "duration": 0.036937,
     "end_time": "2020-08-31T02:05:23.246755",
     "exception": false,
     "start_time": "2020-08-31T02:05:23.209818",
     "status": "completed"
    },
    "tags": []
   },
   "outputs": [
    {
     "name": "stdout",
     "output_type": "stream",
     "text": [
      "Accuracy:  0.7181174089068826\n"
     ]
    }
   ],
   "source": [
    "#checking accuracy of regression model with features selected by kbest \n",
    "print('Accuracy: ',metrics.accuracy_score(y_valid, kbest_ypred))\n",
    "plt.show()"
   ]
  },
  {
   "cell_type": "code",
   "execution_count": 43,
   "metadata": {
    "execution": {
     "iopub.execute_input": "2020-08-31T02:05:23.305467Z",
     "iopub.status.busy": "2020-08-31T02:05:23.304510Z",
     "iopub.status.idle": "2020-08-31T02:05:23.349045Z",
     "shell.execute_reply": "2020-08-31T02:05:23.348158Z"
    },
    "papermill": {
     "duration": 0.07739,
     "end_time": "2020-08-31T02:05:23.349187",
     "exception": false,
     "start_time": "2020-08-31T02:05:23.271797",
     "status": "completed"
    },
    "tags": []
   },
   "outputs": [],
   "source": [
    "#Training logistic regression model on test dataset with features from kbest\n",
    "kbest_lr= LogisticRegression()\n",
    "kbest_lr.fit(kbest_Xtrain,y_train)\n",
    "kbest_ypredtest=kbest_lr.predict(kbest_Xtest)"
   ]
  },
  {
   "cell_type": "code",
   "execution_count": 44,
   "metadata": {
    "execution": {
     "iopub.execute_input": "2020-08-31T02:05:23.409012Z",
     "iopub.status.busy": "2020-08-31T02:05:23.407919Z",
     "iopub.status.idle": "2020-08-31T02:05:23.414568Z",
     "shell.execute_reply": "2020-08-31T02:05:23.413555Z"
    },
    "papermill": {
     "duration": 0.037755,
     "end_time": "2020-08-31T02:05:23.414743",
     "exception": false,
     "start_time": "2020-08-31T02:05:23.376988",
     "status": "completed"
    },
    "tags": []
   },
   "outputs": [
    {
     "name": "stdout",
     "output_type": "stream",
     "text": [
      "Accuracy:  0.7176113360323887\n"
     ]
    }
   ],
   "source": [
    "print('Accuracy: ',metrics.accuracy_score(y_test,kbest_ypredtest))"
   ]
  }
 ],
 "metadata": {
  "kernelspec": {
   "display_name": "Python 3",
   "language": "python",
   "name": "python3"
  },
  "language_info": {
   "codemirror_mode": {
    "name": "ipython",
    "version": 3
   },
   "file_extension": ".py",
   "mimetype": "text/x-python",
   "name": "python",
   "nbconvert_exporter": "python",
   "pygments_lexer": "ipython3",
   "version": "3.7.6"
  },
  "papermill": {
   "duration": 18.83642,
   "end_time": "2020-08-31T02:05:23.549137",
   "environment_variables": {},
   "exception": null,
   "input_path": "__notebook__.ipynb",
   "output_path": "__notebook__.ipynb",
   "parameters": {},
   "start_time": "2020-08-31T02:05:04.712717",
   "version": "2.1.0"
  }
 },
 "nbformat": 4,
 "nbformat_minor": 4
}
