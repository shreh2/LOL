{
 "cells": [
  {
   "cell_type": "code",
   "execution_count": 1,
   "metadata": {
    "_cell_guid": "b1076dfc-b9ad-4769-8c92-a6c4dae69d19",
    "_uuid": "8f2839f25d086af736a60e9eeb907d3b93b6e0e5",
    "execution": {
     "iopub.execute_input": "2020-08-26T15:42:29.166520Z",
     "iopub.status.busy": "2020-08-26T15:42:29.165705Z",
     "iopub.status.idle": "2020-08-26T15:42:30.507310Z",
     "shell.execute_reply": "2020-08-26T15:42:30.506299Z"
    },
    "papermill": {
     "duration": 1.363726,
     "end_time": "2020-08-26T15:42:30.507511",
     "exception": false,
     "start_time": "2020-08-26T15:42:29.143785",
     "status": "completed"
    },
    "tags": []
   },
   "outputs": [
    {
     "name": "stdout",
     "output_type": "stream",
     "text": [
      "/kaggle/input/league-of-legends-diamond-ranked-games-10-min/high_diamond_ranked_10min.csv\n"
     ]
    }
   ],
   "source": [
    "# This Python 3 environment comes with many helpful analytics libraries installed\n",
    "# It is defined by the kaggle/python Docker image: https://github.com/kaggle/docker-python\n",
    "# For example, here's several helpful packages to load\n",
    "\n",
    "import numpy as np # linear algebra\n",
    "import pandas as pd # data processing, CSV file I/O (e.g. pd.read_csv)\n",
    "import seaborn as sns\n",
    "import matplotlib.pyplot as plt\n",
    "from sklearn.model_selection import train_test_split\n",
    "from sklearn.preprocessing import MinMaxScaler\n",
    "from sklearn.linear_model import Lasso\n",
    "from sklearn.feature_selection import SelectKBest, f_classif, mutual_info_classif\n",
    "from sklearn.linear_model import LogisticRegression\n",
    "from sklearn.metrics import confusion_matrix\n",
    "from sklearn.metrics import plot_confusion_matrix\n",
    "from sklearn import metrics\n",
    "\n",
    "# Input data files are available in the read-only \"../input/\" directory\n",
    "# For example, running this (by clicking run or pressing Shift+Enter) will list all files under the input directory\n",
    "\n",
    "import os\n",
    "for dirname, _, filenames in os.walk('/kaggle/input'):\n",
    "    for filename in filenames:\n",
    "        print(os.path.join(dirname, filename))\n",
    "        \n",
    "\n",
    "# You can write up to 5GB to the current directory (/kaggle/working/) that gets preserved as output when you create a version using \"Save & Run All\" \n",
    "# You can also write temporary files to /kaggle/temp/, but they won't be saved outside of the current session"
   ]
  },
  {
   "cell_type": "code",
   "execution_count": 2,
   "metadata": {
    "_cell_guid": "79c7e3d0-c299-4dcb-8224-4455121ee9b0",
    "_uuid": "d629ff2d2480ee46fbb7e2d37f6b5fab8052498a",
    "execution": {
     "iopub.execute_input": "2020-08-26T15:42:30.537269Z",
     "iopub.status.busy": "2020-08-26T15:42:30.536508Z",
     "iopub.status.idle": "2020-08-26T15:42:30.607927Z",
     "shell.execute_reply": "2020-08-26T15:42:30.607227Z"
    },
    "papermill": {
     "duration": 0.088649,
     "end_time": "2020-08-26T15:42:30.608050",
     "exception": false,
     "start_time": "2020-08-26T15:42:30.519401",
     "status": "completed"
    },
    "tags": []
   },
   "outputs": [],
   "source": [
    "hdr10 = pd.read_csv(os.path.join(dirname, filename))"
   ]
  },
  {
   "cell_type": "code",
   "execution_count": 3,
   "metadata": {
    "execution": {
     "iopub.execute_input": "2020-08-26T15:42:30.656251Z",
     "iopub.status.busy": "2020-08-26T15:42:30.644369Z",
     "iopub.status.idle": "2020-08-26T15:42:30.670816Z",
     "shell.execute_reply": "2020-08-26T15:42:30.670304Z"
    },
    "papermill": {
     "duration": 0.049004,
     "end_time": "2020-08-26T15:42:30.670930",
     "exception": false,
     "start_time": "2020-08-26T15:42:30.621926",
     "status": "completed"
    },
    "tags": []
   },
   "outputs": [
    {
     "data": {
      "text/html": [
       "<div>\n",
       "<style scoped>\n",
       "    .dataframe tbody tr th:only-of-type {\n",
       "        vertical-align: middle;\n",
       "    }\n",
       "\n",
       "    .dataframe tbody tr th {\n",
       "        vertical-align: top;\n",
       "    }\n",
       "\n",
       "    .dataframe thead th {\n",
       "        text-align: right;\n",
       "    }\n",
       "</style>\n",
       "<table border=\"1\" class=\"dataframe\">\n",
       "  <thead>\n",
       "    <tr style=\"text-align: right;\">\n",
       "      <th></th>\n",
       "      <th>gameid</th>\n",
       "      <th>bluewins</th>\n",
       "      <th>bluewardsplaced</th>\n",
       "      <th>bluewardsdestroyed</th>\n",
       "      <th>bluefirstblood</th>\n",
       "      <th>bluekills</th>\n",
       "      <th>bluedeaths</th>\n",
       "      <th>blueassists</th>\n",
       "      <th>blueelitemonsters</th>\n",
       "      <th>bluedragons</th>\n",
       "      <th>...</th>\n",
       "      <th>redtowersdestroyed</th>\n",
       "      <th>redtotalgold</th>\n",
       "      <th>redavglevel</th>\n",
       "      <th>redtotalexperience</th>\n",
       "      <th>redtotalminionskilled</th>\n",
       "      <th>redtotaljungleminionskilled</th>\n",
       "      <th>redgolddiff</th>\n",
       "      <th>redexperiencediff</th>\n",
       "      <th>redcspermin</th>\n",
       "      <th>redgoldpermin</th>\n",
       "    </tr>\n",
       "  </thead>\n",
       "  <tbody>\n",
       "    <tr>\n",
       "      <th>0</th>\n",
       "      <td>4519157822</td>\n",
       "      <td>0</td>\n",
       "      <td>28</td>\n",
       "      <td>2</td>\n",
       "      <td>1</td>\n",
       "      <td>9</td>\n",
       "      <td>6</td>\n",
       "      <td>11</td>\n",
       "      <td>0</td>\n",
       "      <td>0</td>\n",
       "      <td>...</td>\n",
       "      <td>0</td>\n",
       "      <td>16567</td>\n",
       "      <td>6.8</td>\n",
       "      <td>17047</td>\n",
       "      <td>197</td>\n",
       "      <td>55</td>\n",
       "      <td>-643</td>\n",
       "      <td>8</td>\n",
       "      <td>19.7</td>\n",
       "      <td>1656.7</td>\n",
       "    </tr>\n",
       "    <tr>\n",
       "      <th>1</th>\n",
       "      <td>4523371949</td>\n",
       "      <td>0</td>\n",
       "      <td>12</td>\n",
       "      <td>1</td>\n",
       "      <td>0</td>\n",
       "      <td>5</td>\n",
       "      <td>5</td>\n",
       "      <td>5</td>\n",
       "      <td>0</td>\n",
       "      <td>0</td>\n",
       "      <td>...</td>\n",
       "      <td>1</td>\n",
       "      <td>17620</td>\n",
       "      <td>6.8</td>\n",
       "      <td>17438</td>\n",
       "      <td>240</td>\n",
       "      <td>52</td>\n",
       "      <td>2908</td>\n",
       "      <td>1173</td>\n",
       "      <td>24.0</td>\n",
       "      <td>1762.0</td>\n",
       "    </tr>\n",
       "    <tr>\n",
       "      <th>2</th>\n",
       "      <td>4521474530</td>\n",
       "      <td>0</td>\n",
       "      <td>15</td>\n",
       "      <td>0</td>\n",
       "      <td>0</td>\n",
       "      <td>7</td>\n",
       "      <td>11</td>\n",
       "      <td>4</td>\n",
       "      <td>1</td>\n",
       "      <td>1</td>\n",
       "      <td>...</td>\n",
       "      <td>0</td>\n",
       "      <td>17285</td>\n",
       "      <td>6.8</td>\n",
       "      <td>17254</td>\n",
       "      <td>203</td>\n",
       "      <td>28</td>\n",
       "      <td>1172</td>\n",
       "      <td>1033</td>\n",
       "      <td>20.3</td>\n",
       "      <td>1728.5</td>\n",
       "    </tr>\n",
       "    <tr>\n",
       "      <th>3</th>\n",
       "      <td>4524384067</td>\n",
       "      <td>0</td>\n",
       "      <td>43</td>\n",
       "      <td>1</td>\n",
       "      <td>0</td>\n",
       "      <td>4</td>\n",
       "      <td>5</td>\n",
       "      <td>5</td>\n",
       "      <td>1</td>\n",
       "      <td>0</td>\n",
       "      <td>...</td>\n",
       "      <td>0</td>\n",
       "      <td>16478</td>\n",
       "      <td>7.0</td>\n",
       "      <td>17961</td>\n",
       "      <td>235</td>\n",
       "      <td>47</td>\n",
       "      <td>1321</td>\n",
       "      <td>7</td>\n",
       "      <td>23.5</td>\n",
       "      <td>1647.8</td>\n",
       "    </tr>\n",
       "    <tr>\n",
       "      <th>4</th>\n",
       "      <td>4436033771</td>\n",
       "      <td>0</td>\n",
       "      <td>75</td>\n",
       "      <td>4</td>\n",
       "      <td>0</td>\n",
       "      <td>6</td>\n",
       "      <td>6</td>\n",
       "      <td>6</td>\n",
       "      <td>0</td>\n",
       "      <td>0</td>\n",
       "      <td>...</td>\n",
       "      <td>0</td>\n",
       "      <td>17404</td>\n",
       "      <td>7.0</td>\n",
       "      <td>18313</td>\n",
       "      <td>225</td>\n",
       "      <td>67</td>\n",
       "      <td>1004</td>\n",
       "      <td>-230</td>\n",
       "      <td>22.5</td>\n",
       "      <td>1740.4</td>\n",
       "    </tr>\n",
       "  </tbody>\n",
       "</table>\n",
       "<p>5 rows × 40 columns</p>\n",
       "</div>"
      ],
      "text/plain": [
       "       gameid  bluewins  bluewardsplaced  bluewardsdestroyed  bluefirstblood  \\\n",
       "0  4519157822         0               28                   2               1   \n",
       "1  4523371949         0               12                   1               0   \n",
       "2  4521474530         0               15                   0               0   \n",
       "3  4524384067         0               43                   1               0   \n",
       "4  4436033771         0               75                   4               0   \n",
       "\n",
       "   bluekills  bluedeaths  blueassists  blueelitemonsters  bluedragons  ...  \\\n",
       "0          9           6           11                  0            0  ...   \n",
       "1          5           5            5                  0            0  ...   \n",
       "2          7          11            4                  1            1  ...   \n",
       "3          4           5            5                  1            0  ...   \n",
       "4          6           6            6                  0            0  ...   \n",
       "\n",
       "   redtowersdestroyed  redtotalgold  redavglevel  redtotalexperience  \\\n",
       "0                   0         16567          6.8               17047   \n",
       "1                   1         17620          6.8               17438   \n",
       "2                   0         17285          6.8               17254   \n",
       "3                   0         16478          7.0               17961   \n",
       "4                   0         17404          7.0               18313   \n",
       "\n",
       "   redtotalminionskilled  redtotaljungleminionskilled  redgolddiff  \\\n",
       "0                    197                           55         -643   \n",
       "1                    240                           52         2908   \n",
       "2                    203                           28         1172   \n",
       "3                    235                           47         1321   \n",
       "4                    225                           67         1004   \n",
       "\n",
       "   redexperiencediff  redcspermin  redgoldpermin  \n",
       "0                  8         19.7         1656.7  \n",
       "1               1173         24.0         1762.0  \n",
       "2               1033         20.3         1728.5  \n",
       "3                  7         23.5         1647.8  \n",
       "4               -230         22.5         1740.4  \n",
       "\n",
       "[5 rows x 40 columns]"
      ]
     },
     "execution_count": 3,
     "metadata": {},
     "output_type": "execute_result"
    }
   ],
   "source": [
    "hdr10.columns = hdr10.columns.str.lower()\n",
    "hdr10.head()"
   ]
  },
  {
   "cell_type": "code",
   "execution_count": 4,
   "metadata": {
    "execution": {
     "iopub.execute_input": "2020-08-26T15:42:30.705146Z",
     "iopub.status.busy": "2020-08-26T15:42:30.704001Z",
     "iopub.status.idle": "2020-08-26T15:42:30.709327Z",
     "shell.execute_reply": "2020-08-26T15:42:30.708531Z"
    },
    "papermill": {
     "duration": 0.027722,
     "end_time": "2020-08-26T15:42:30.709487",
     "exception": false,
     "start_time": "2020-08-26T15:42:30.681765",
     "status": "completed"
    },
    "tags": []
   },
   "outputs": [],
   "source": [
    "hdr10.set_index('gameid',inplace=True)"
   ]
  },
  {
   "cell_type": "markdown",
   "metadata": {
    "papermill": {
     "duration": 0.010745,
     "end_time": "2020-08-26T15:42:30.733721",
     "exception": false,
     "start_time": "2020-08-26T15:42:30.722976",
     "status": "completed"
    },
    "tags": []
   },
   "source": [
    "## EDA"
   ]
  },
  {
   "cell_type": "code",
   "execution_count": 5,
   "metadata": {
    "execution": {
     "iopub.execute_input": "2020-08-26T15:42:30.761481Z",
     "iopub.status.busy": "2020-08-26T15:42:30.760778Z",
     "iopub.status.idle": "2020-08-26T15:42:30.781169Z",
     "shell.execute_reply": "2020-08-26T15:42:30.780391Z"
    },
    "papermill": {
     "duration": 0.036863,
     "end_time": "2020-08-26T15:42:30.781330",
     "exception": false,
     "start_time": "2020-08-26T15:42:30.744467",
     "status": "completed"
    },
    "tags": []
   },
   "outputs": [
    {
     "name": "stdout",
     "output_type": "stream",
     "text": [
      "<class 'pandas.core.frame.DataFrame'>\n",
      "Int64Index: 9879 entries, 4519157822 to 4523772935\n",
      "Data columns (total 39 columns):\n",
      " #   Column                        Non-Null Count  Dtype  \n",
      "---  ------                        --------------  -----  \n",
      " 0   bluewins                      9879 non-null   int64  \n",
      " 1   bluewardsplaced               9879 non-null   int64  \n",
      " 2   bluewardsdestroyed            9879 non-null   int64  \n",
      " 3   bluefirstblood                9879 non-null   int64  \n",
      " 4   bluekills                     9879 non-null   int64  \n",
      " 5   bluedeaths                    9879 non-null   int64  \n",
      " 6   blueassists                   9879 non-null   int64  \n",
      " 7   blueelitemonsters             9879 non-null   int64  \n",
      " 8   bluedragons                   9879 non-null   int64  \n",
      " 9   blueheralds                   9879 non-null   int64  \n",
      " 10  bluetowersdestroyed           9879 non-null   int64  \n",
      " 11  bluetotalgold                 9879 non-null   int64  \n",
      " 12  blueavglevel                  9879 non-null   float64\n",
      " 13  bluetotalexperience           9879 non-null   int64  \n",
      " 14  bluetotalminionskilled        9879 non-null   int64  \n",
      " 15  bluetotaljungleminionskilled  9879 non-null   int64  \n",
      " 16  bluegolddiff                  9879 non-null   int64  \n",
      " 17  blueexperiencediff            9879 non-null   int64  \n",
      " 18  bluecspermin                  9879 non-null   float64\n",
      " 19  bluegoldpermin                9879 non-null   float64\n",
      " 20  redwardsplaced                9879 non-null   int64  \n",
      " 21  redwardsdestroyed             9879 non-null   int64  \n",
      " 22  redfirstblood                 9879 non-null   int64  \n",
      " 23  redkills                      9879 non-null   int64  \n",
      " 24  reddeaths                     9879 non-null   int64  \n",
      " 25  redassists                    9879 non-null   int64  \n",
      " 26  redelitemonsters              9879 non-null   int64  \n",
      " 27  reddragons                    9879 non-null   int64  \n",
      " 28  redheralds                    9879 non-null   int64  \n",
      " 29  redtowersdestroyed            9879 non-null   int64  \n",
      " 30  redtotalgold                  9879 non-null   int64  \n",
      " 31  redavglevel                   9879 non-null   float64\n",
      " 32  redtotalexperience            9879 non-null   int64  \n",
      " 33  redtotalminionskilled         9879 non-null   int64  \n",
      " 34  redtotaljungleminionskilled   9879 non-null   int64  \n",
      " 35  redgolddiff                   9879 non-null   int64  \n",
      " 36  redexperiencediff             9879 non-null   int64  \n",
      " 37  redcspermin                   9879 non-null   float64\n",
      " 38  redgoldpermin                 9879 non-null   float64\n",
      "dtypes: float64(6), int64(33)\n",
      "memory usage: 3.0 MB\n"
     ]
    }
   ],
   "source": [
    "hdr10.info()"
   ]
  },
  {
   "cell_type": "code",
   "execution_count": 6,
   "metadata": {
    "execution": {
     "iopub.execute_input": "2020-08-26T15:42:30.813408Z",
     "iopub.status.busy": "2020-08-26T15:42:30.810555Z",
     "iopub.status.idle": "2020-08-26T15:42:30.817399Z",
     "shell.execute_reply": "2020-08-26T15:42:30.817861Z"
    },
    "papermill": {
     "duration": 0.024663,
     "end_time": "2020-08-26T15:42:30.818005",
     "exception": false,
     "start_time": "2020-08-26T15:42:30.793342",
     "status": "completed"
    },
    "tags": []
   },
   "outputs": [
    {
     "data": {
      "text/plain": [
       "0    4949\n",
       "1    4930\n",
       "Name: bluewins, dtype: int64"
      ]
     },
     "execution_count": 6,
     "metadata": {},
     "output_type": "execute_result"
    }
   ],
   "source": [
    "hdr10.bluewins.value_counts()"
   ]
  },
  {
   "cell_type": "code",
   "execution_count": 7,
   "metadata": {
    "execution": {
     "iopub.execute_input": "2020-08-26T15:42:30.845896Z",
     "iopub.status.busy": "2020-08-26T15:42:30.845205Z",
     "iopub.status.idle": "2020-08-26T15:42:36.191356Z",
     "shell.execute_reply": "2020-08-26T15:42:36.190772Z"
    },
    "papermill": {
     "duration": 5.362185,
     "end_time": "2020-08-26T15:42:36.191469",
     "exception": false,
     "start_time": "2020-08-26T15:42:30.829284",
     "status": "completed"
    },
    "tags": []
   },
   "outputs": [
    {
     "data": {
      "image/png": "[encoded data removed]",
      "text/plain": [
       "<Figure size 1080x1296 with 42 Axes>"
      ]
     },
     "metadata": {
      "needs_background": "light"
     },
     "output_type": "display_data"
    }
   ],
   "source": [
    "#plt.figure(figsize=[15,15])\n",
    "hdr10.hist(figsize=[15,18]);\n",
    "#plt.show()"
   ]
  },
  {
   "cell_type": "code",
   "execution_count": 8,
   "metadata": {
    "execution": {
     "iopub.execute_input": "2020-08-26T15:42:36.223314Z",
     "iopub.status.busy": "2020-08-26T15:42:36.222485Z",
     "iopub.status.idle": "2020-08-26T15:42:36.226990Z",
     "shell.execute_reply": "2020-08-26T15:42:36.226345Z"
    },
    "papermill": {
     "duration": 0.022972,
     "end_time": "2020-08-26T15:42:36.227128",
     "exception": false,
     "start_time": "2020-08-26T15:42:36.204156",
     "status": "completed"
    },
    "tags": []
   },
   "outputs": [
    {
     "data": {
      "text/plain": [
       "Index(['bluewins', 'bluewardsplaced', 'bluewardsdestroyed', 'bluefirstblood',\n",
       "       'bluekills', 'bluedeaths', 'blueassists', 'blueelitemonsters',\n",
       "       'bluedragons', 'blueheralds', 'bluetowersdestroyed', 'bluetotalgold',\n",
       "       'blueavglevel', 'bluetotalexperience', 'bluetotalminionskilled',\n",
       "       'bluetotaljungleminionskilled', 'bluegolddiff', 'blueexperiencediff',\n",
       "       'bluecspermin', 'bluegoldpermin', 'redwardsplaced', 'redwardsdestroyed',\n",
       "       'redfirstblood', 'redkills', 'reddeaths', 'redassists',\n",
       "       'redelitemonsters', 'reddragons', 'redheralds', 'redtowersdestroyed',\n",
       "       'redtotalgold', 'redavglevel', 'redtotalexperience',\n",
       "       'redtotalminionskilled', 'redtotaljungleminionskilled', 'redgolddiff',\n",
       "       'redexperiencediff', 'redcspermin', 'redgoldpermin'],\n",
       "      dtype='object')"
      ]
     },
     "execution_count": 8,
     "metadata": {},
     "output_type": "execute_result"
    }
   ],
   "source": [
    "hdr10.columns"
   ]
  },
  {
   "cell_type": "markdown",
   "metadata": {
    "papermill": {
     "duration": 0.012243,
     "end_time": "2020-08-26T15:42:36.252483",
     "exception": false,
     "start_time": "2020-08-26T15:42:36.240240",
     "status": "completed"
    },
    "tags": []
   },
   "source": [
    "## Scaling and Feature Selection"
   ]
  },
  {
   "cell_type": "code",
   "execution_count": 9,
   "metadata": {
    "execution": {
     "iopub.execute_input": "2020-08-26T15:42:36.283777Z",
     "iopub.status.busy": "2020-08-26T15:42:36.283073Z",
     "iopub.status.idle": "2020-08-26T15:42:36.428869Z",
     "shell.execute_reply": "2020-08-26T15:42:36.429411Z"
    },
    "papermill": {
     "duration": 0.164384,
     "end_time": "2020-08-26T15:42:36.429572",
     "exception": false,
     "start_time": "2020-08-26T15:42:36.265188",
     "status": "completed"
    },
    "tags": []
   },
   "outputs": [],
   "source": [
    "hdr10_scaled = hdr10.copy()\n",
    "\n",
    "# Create the scaler with object range of 0-1\n",
    "scaler = MinMaxScaler()\n",
    "\n",
    "# Fit and transform using the training data\n",
    "hdr10_scaled[hdr10_scaled.columns] = scaler.fit_transform(hdr10[hdr10.columns])"
   ]
  },
  {
   "cell_type": "code",
   "execution_count": 10,
   "metadata": {
    "execution": {
     "iopub.execute_input": "2020-08-26T15:42:36.458342Z",
     "iopub.status.busy": "2020-08-26T15:42:36.457687Z",
     "iopub.status.idle": "2020-08-26T15:42:36.486367Z",
     "shell.execute_reply": "2020-08-26T15:42:36.485840Z"
    },
    "papermill": {
     "duration": 0.044118,
     "end_time": "2020-08-26T15:42:36.486478",
     "exception": false,
     "start_time": "2020-08-26T15:42:36.442360",
     "status": "completed"
    },
    "tags": []
   },
   "outputs": [
    {
     "data": {
      "text/html": [
       "<div>\n",
       "<style scoped>\n",
       "    .dataframe tbody tr th:only-of-type {\n",
       "        vertical-align: middle;\n",
       "    }\n",
       "\n",
       "    .dataframe tbody tr th {\n",
       "        vertical-align: top;\n",
       "    }\n",
       "\n",
       "    .dataframe thead th {\n",
       "        text-align: right;\n",
       "    }\n",
       "</style>\n",
       "<table border=\"1\" class=\"dataframe\">\n",
       "  <thead>\n",
       "    <tr style=\"text-align: right;\">\n",
       "      <th></th>\n",
       "      <th>bluewins</th>\n",
       "      <th>bluewardsplaced</th>\n",
       "      <th>bluewardsdestroyed</th>\n",
       "      <th>bluefirstblood</th>\n",
       "      <th>bluekills</th>\n",
       "      <th>bluedeaths</th>\n",
       "      <th>blueassists</th>\n",
       "      <th>blueelitemonsters</th>\n",
       "      <th>bluedragons</th>\n",
       "      <th>blueheralds</th>\n",
       "      <th>...</th>\n",
       "      <th>redtowersdestroyed</th>\n",
       "      <th>redtotalgold</th>\n",
       "      <th>redavglevel</th>\n",
       "      <th>redtotalexperience</th>\n",
       "      <th>redtotalminionskilled</th>\n",
       "      <th>redtotaljungleminionskilled</th>\n",
       "      <th>redgolddiff</th>\n",
       "      <th>redexperiencediff</th>\n",
       "      <th>redcspermin</th>\n",
       "      <th>redgoldpermin</th>\n",
       "    </tr>\n",
       "    <tr>\n",
       "      <th>gameid</th>\n",
       "      <th></th>\n",
       "      <th></th>\n",
       "      <th></th>\n",
       "      <th></th>\n",
       "      <th></th>\n",
       "      <th></th>\n",
       "      <th></th>\n",
       "      <th></th>\n",
       "      <th></th>\n",
       "      <th></th>\n",
       "      <th></th>\n",
       "      <th></th>\n",
       "      <th></th>\n",
       "      <th></th>\n",
       "      <th></th>\n",
       "      <th></th>\n",
       "      <th></th>\n",
       "      <th></th>\n",
       "      <th></th>\n",
       "      <th></th>\n",
       "      <th></th>\n",
       "    </tr>\n",
       "  </thead>\n",
       "  <tbody>\n",
       "    <tr>\n",
       "      <th>4519157822</th>\n",
       "      <td>0.0</td>\n",
       "      <td>0.093878</td>\n",
       "      <td>0.074074</td>\n",
       "      <td>1.0</td>\n",
       "      <td>0.409091</td>\n",
       "      <td>0.272727</td>\n",
       "      <td>0.379310</td>\n",
       "      <td>0.0</td>\n",
       "      <td>0.0</td>\n",
       "      <td>0.0</td>\n",
       "      <td>...</td>\n",
       "      <td>0.0</td>\n",
       "      <td>0.464844</td>\n",
       "      <td>0.588235</td>\n",
       "      <td>0.557608</td>\n",
       "      <td>0.494505</td>\n",
       "      <td>0.579545</td>\n",
       "      <td>0.485446</td>\n",
       "      <td>0.472598</td>\n",
       "      <td>0.494505</td>\n",
       "      <td>0.464844</td>\n",
       "    </tr>\n",
       "    <tr>\n",
       "      <th>4523371949</th>\n",
       "      <td>0.0</td>\n",
       "      <td>0.028571</td>\n",
       "      <td>0.037037</td>\n",
       "      <td>0.0</td>\n",
       "      <td>0.227273</td>\n",
       "      <td>0.227273</td>\n",
       "      <td>0.172414</td>\n",
       "      <td>0.0</td>\n",
       "      <td>0.0</td>\n",
       "      <td>0.0</td>\n",
       "      <td>...</td>\n",
       "      <td>0.5</td>\n",
       "      <td>0.556250</td>\n",
       "      <td>0.588235</td>\n",
       "      <td>0.590732</td>\n",
       "      <td>0.730769</td>\n",
       "      <td>0.545455</td>\n",
       "      <td>0.644706</td>\n",
       "      <td>0.538488</td>\n",
       "      <td>0.730769</td>\n",
       "      <td>0.556250</td>\n",
       "    </tr>\n",
       "    <tr>\n",
       "      <th>4521474530</th>\n",
       "      <td>0.0</td>\n",
       "      <td>0.040816</td>\n",
       "      <td>0.000000</td>\n",
       "      <td>0.0</td>\n",
       "      <td>0.318182</td>\n",
       "      <td>0.500000</td>\n",
       "      <td>0.137931</td>\n",
       "      <td>0.5</td>\n",
       "      <td>1.0</td>\n",
       "      <td>0.0</td>\n",
       "      <td>...</td>\n",
       "      <td>0.0</td>\n",
       "      <td>0.527170</td>\n",
       "      <td>0.588235</td>\n",
       "      <td>0.575144</td>\n",
       "      <td>0.527473</td>\n",
       "      <td>0.272727</td>\n",
       "      <td>0.566848</td>\n",
       "      <td>0.530570</td>\n",
       "      <td>0.527473</td>\n",
       "      <td>0.527170</td>\n",
       "    </tr>\n",
       "    <tr>\n",
       "      <th>4524384067</th>\n",
       "      <td>0.0</td>\n",
       "      <td>0.155102</td>\n",
       "      <td>0.037037</td>\n",
       "      <td>0.0</td>\n",
       "      <td>0.181818</td>\n",
       "      <td>0.227273</td>\n",
       "      <td>0.172414</td>\n",
       "      <td>0.5</td>\n",
       "      <td>0.0</td>\n",
       "      <td>1.0</td>\n",
       "      <td>...</td>\n",
       "      <td>0.0</td>\n",
       "      <td>0.457118</td>\n",
       "      <td>0.647059</td>\n",
       "      <td>0.635039</td>\n",
       "      <td>0.703297</td>\n",
       "      <td>0.488636</td>\n",
       "      <td>0.573530</td>\n",
       "      <td>0.472541</td>\n",
       "      <td>0.703297</td>\n",
       "      <td>0.457118</td>\n",
       "    </tr>\n",
       "    <tr>\n",
       "      <th>4436033771</th>\n",
       "      <td>0.0</td>\n",
       "      <td>0.285714</td>\n",
       "      <td>0.148148</td>\n",
       "      <td>0.0</td>\n",
       "      <td>0.272727</td>\n",
       "      <td>0.272727</td>\n",
       "      <td>0.206897</td>\n",
       "      <td>0.0</td>\n",
       "      <td>0.0</td>\n",
       "      <td>0.0</td>\n",
       "      <td>...</td>\n",
       "      <td>0.0</td>\n",
       "      <td>0.537500</td>\n",
       "      <td>0.647059</td>\n",
       "      <td>0.664859</td>\n",
       "      <td>0.648352</td>\n",
       "      <td>0.715909</td>\n",
       "      <td>0.559313</td>\n",
       "      <td>0.459137</td>\n",
       "      <td>0.648352</td>\n",
       "      <td>0.537500</td>\n",
       "    </tr>\n",
       "  </tbody>\n",
       "</table>\n",
       "<p>5 rows × 39 columns</p>\n",
       "</div>"
      ],
      "text/plain": [
       "            bluewins  bluewardsplaced  bluewardsdestroyed  bluefirstblood  \\\n",
       "gameid                                                                      \n",
       "4519157822       0.0         0.093878            0.074074             1.0   \n",
       "4523371949       0.0         0.028571            0.037037             0.0   \n",
       "4521474530       0.0         0.040816            0.000000             0.0   \n",
       "4524384067       0.0         0.155102            0.037037             0.0   \n",
       "4436033771       0.0         0.285714            0.148148             0.0   \n",
       "\n",
       "            bluekills  bluedeaths  blueassists  blueelitemonsters  \\\n",
       "gameid                                                              \n",
       "4519157822   0.409091    0.272727     0.379310                0.0   \n",
       "4523371949   0.227273    0.227273     0.172414                0.0   \n",
       "4521474530   0.318182    0.500000     0.137931                0.5   \n",
       "4524384067   0.181818    0.227273     0.172414                0.5   \n",
       "4436033771   0.272727    0.272727     0.206897                0.0   \n",
       "\n",
       "            bluedragons  blueheralds  ...  redtowersdestroyed  redtotalgold  \\\n",
       "gameid                                ...                                     \n",
       "4519157822          0.0          0.0  ...                 0.0      0.464844   \n",
       "4523371949          0.0          0.0  ...                 0.5      0.556250   \n",
       "4521474530          1.0          0.0  ...                 0.0      0.527170   \n",
       "4524384067          0.0          1.0  ...                 0.0      0.457118   \n",
       "4436033771          0.0          0.0  ...                 0.0      0.537500   \n",
       "\n",
       "            redavglevel  redtotalexperience  redtotalminionskilled  \\\n",
       "gameid                                                               \n",
       "4519157822     0.588235            0.557608               0.494505   \n",
       "4523371949     0.588235            0.590732               0.730769   \n",
       "4521474530     0.588235            0.575144               0.527473   \n",
       "4524384067     0.647059            0.635039               0.703297   \n",
       "4436033771     0.647059            0.664859               0.648352   \n",
       "\n",
       "            redtotaljungleminionskilled  redgolddiff  redexperiencediff  \\\n",
       "gameid                                                                    \n",
       "4519157822                     0.579545     0.485446           0.472598   \n",
       "4523371949                     0.545455     0.644706           0.538488   \n",
       "4521474530                     0.272727     0.566848           0.530570   \n",
       "4524384067                     0.488636     0.573530           0.472541   \n",
       "4436033771                     0.715909     0.559313           0.459137   \n",
       "\n",
       "            redcspermin  redgoldpermin  \n",
       "gameid                                  \n",
       "4519157822     0.494505       0.464844  \n",
       "4523371949     0.730769       0.556250  \n",
       "4521474530     0.527473       0.527170  \n",
       "4524384067     0.703297       0.457118  \n",
       "4436033771     0.648352       0.537500  \n",
       "\n",
       "[5 rows x 39 columns]"
      ]
     },
     "execution_count": 10,
     "metadata": {},
     "output_type": "execute_result"
    }
   ],
   "source": [
    "hdr10_scaled.head()"
   ]
  },
  {
   "cell_type": "code",
   "execution_count": 11,
   "metadata": {
    "execution": {
     "iopub.execute_input": "2020-08-26T15:42:36.518816Z",
     "iopub.status.busy": "2020-08-26T15:42:36.518095Z",
     "iopub.status.idle": "2020-08-26T15:42:36.522588Z",
     "shell.execute_reply": "2020-08-26T15:42:36.521913Z"
    },
    "papermill": {
     "duration": 0.023326,
     "end_time": "2020-08-26T15:42:36.522705",
     "exception": false,
     "start_time": "2020-08-26T15:42:36.499379",
     "status": "completed"
    },
    "tags": []
   },
   "outputs": [
    {
     "data": {
      "text/plain": [
       "Index(['bluewardsplaced', 'bluewardsdestroyed', 'bluefirstblood', 'bluekills',\n",
       "       'bluedeaths', 'blueassists', 'blueelitemonsters', 'bluedragons',\n",
       "       'blueheralds', 'bluetowersdestroyed', 'bluetotalgold', 'blueavglevel',\n",
       "       'bluetotalexperience', 'bluetotalminionskilled',\n",
       "       'bluetotaljungleminionskilled', 'bluegolddiff', 'blueexperiencediff',\n",
       "       'bluecspermin', 'bluegoldpermin', 'redwardsplaced', 'redwardsdestroyed',\n",
       "       'redfirstblood', 'redkills', 'reddeaths', 'redassists',\n",
       "       'redelitemonsters', 'reddragons', 'redheralds', 'redtowersdestroyed',\n",
       "       'redtotalgold', 'redavglevel', 'redtotalexperience',\n",
       "       'redtotalminionskilled', 'redtotaljungleminionskilled', 'redgolddiff',\n",
       "       'redexperiencediff', 'redcspermin', 'redgoldpermin'],\n",
       "      dtype='object')"
      ]
     },
     "execution_count": 11,
     "metadata": {},
     "output_type": "execute_result"
    }
   ],
   "source": [
    "features=hdr10_scaled.columns[1:]\n",
    "features"
   ]
  },
  {
   "cell_type": "code",
   "execution_count": 12,
   "metadata": {
    "execution": {
     "iopub.execute_input": "2020-08-26T15:42:36.552579Z",
     "iopub.status.busy": "2020-08-26T15:42:36.551850Z",
     "iopub.status.idle": "2020-08-26T15:42:36.569933Z",
     "shell.execute_reply": "2020-08-26T15:42:36.570572Z"
    },
    "papermill": {
     "duration": 0.034746,
     "end_time": "2020-08-26T15:42:36.570747",
     "exception": false,
     "start_time": "2020-08-26T15:42:36.536001",
     "status": "completed"
    },
    "tags": []
   },
   "outputs": [],
   "source": [
    "X_train_temp, X_test, y_train_temp, y_test = train_test_split(hdr10_scaled[features], \n",
    "                                                              hdr10_scaled[\"bluewins\"], \n",
    "                                                              test_size=0.2, \n",
    "                                                              random_state=20)\n",
    "# Perform the second split\n",
    "X_train, X_valid, y_train, y_valid = train_test_split(X_train_temp, y_train_temp, \n",
    "                                                      test_size=0.25, random_state=20)"
   ]
  },
  {
   "cell_type": "code",
   "execution_count": 13,
   "metadata": {
    "execution": {
     "iopub.execute_input": "2020-08-26T15:42:36.601329Z",
     "iopub.status.busy": "2020-08-26T15:42:36.600642Z",
     "iopub.status.idle": "2020-08-26T15:42:36.603936Z",
     "shell.execute_reply": "2020-08-26T15:42:36.604566Z"
    },
    "papermill": {
     "duration": 0.02024,
     "end_time": "2020-08-26T15:42:36.604712",
     "exception": false,
     "start_time": "2020-08-26T15:42:36.584472",
     "status": "completed"
    },
    "tags": []
   },
   "outputs": [],
   "source": [
    "### "
   ]
  },
  {
   "cell_type": "markdown",
   "metadata": {
    "papermill": {
     "duration": 0.013251,
     "end_time": "2020-08-26T15:42:36.631295",
     "exception": false,
     "start_time": "2020-08-26T15:42:36.618044",
     "status": "completed"
    },
    "tags": []
   },
   "source": [
    "#### Feature selection using lasso regression"
   ]
  },
  {
   "cell_type": "code",
   "execution_count": 14,
   "metadata": {
    "execution": {
     "iopub.execute_input": "2020-08-26T15:42:36.665362Z",
     "iopub.status.busy": "2020-08-26T15:42:36.664633Z",
     "iopub.status.idle": "2020-08-26T15:42:37.026591Z",
     "shell.execute_reply": "2020-08-26T15:42:37.025966Z"
    },
    "papermill": {
     "duration": 0.381276,
     "end_time": "2020-08-26T15:42:37.026713",
     "exception": false,
     "start_time": "2020-08-26T15:42:36.645437",
     "status": "completed"
    },
    "tags": []
   },
   "outputs": [
    {
     "data": {
      "text/plain": [
       "Text(0, 0.5, 'Coefficients')"
      ]
     },
     "execution_count": 14,
     "metadata": {},
     "output_type": "execute_result"
    },
    {
     "data": {
      "image/png": "[encoded data removed]",
      "text/plain": [
       "<Figure size 1440x720 with 1 Axes>"
      ]
     },
     "metadata": {
      "needs_background": "light"
     },
     "output_type": "display_data"
    }
   ],
   "source": [
    "# Create the model\n",
    "lasso = Lasso(alpha=0.01)\n",
    "\n",
    "# Fit the model to the training data\n",
    "lasso.fit(X_train, y_train)\n",
    "\n",
    "# Extract the coefficients\n",
    "lasso_coef = lasso.coef_\n",
    "\n",
    "# Plot the coefficients\n",
    "plt.figure(figsize=(20, 10))\n",
    "plt.plot(range(len(X_train.columns)), lasso_coef)\n",
    "plt.xticks(range(len(X_train.columns)), X_train.columns, rotation=60)\n",
    "plt.axhline(0.0, linestyle='--', color='r')\n",
    "plt.ylabel('Coefficients')"
   ]
  },
  {
   "cell_type": "code",
   "execution_count": 15,
   "metadata": {
    "execution": {
     "iopub.execute_input": "2020-08-26T15:42:37.071491Z",
     "iopub.status.busy": "2020-08-26T15:42:37.070465Z",
     "iopub.status.idle": "2020-08-26T15:42:37.076369Z",
     "shell.execute_reply": "2020-08-26T15:42:37.076834Z"
    },
    "papermill": {
     "duration": 0.035507,
     "end_time": "2020-08-26T15:42:37.076978",
     "exception": false,
     "start_time": "2020-08-26T15:42:37.041471",
     "status": "completed"
    },
    "tags": []
   },
   "outputs": [
    {
     "name": "stdout",
     "output_type": "stream",
     "text": [
      "    lasso_coef            features\n",
      "2     0.041994      bluefirstblood\n",
      "7     0.056627         bluedragons\n",
      "15    0.971731        bluegolddiff\n",
      "16    0.380483  blueexperiencediff\n",
      "21   -0.016304       redfirstblood\n",
      "26   -0.055402          reddragons\n"
     ]
    },
    {
     "data": {
      "text/plain": [
       "2         bluefirstblood\n",
       "7            bluedragons\n",
       "15          bluegolddiff\n",
       "16    blueexperiencediff\n",
       "21         redfirstblood\n",
       "26            reddragons\n",
       "Name: features, dtype: object"
      ]
     },
     "execution_count": 15,
     "metadata": {},
     "output_type": "execute_result"
    }
   ],
   "source": [
    "temp = pd.DataFrame(X_train.columns.values, lasso_coef)\n",
    "temp.reset_index(inplace=True)\n",
    "temp.columns=['lasso_coef','features']\n",
    "print(temp[temp['lasso_coef']!=0])\n",
    "\n",
    "lasso_selected_features = temp[temp['lasso_coef']!=0]['features']\n",
    "lasso_selected_features"
   ]
  },
  {
   "cell_type": "code",
   "execution_count": 16,
   "metadata": {
    "execution": {
     "iopub.execute_input": "2020-08-26T15:42:37.109242Z",
     "iopub.status.busy": "2020-08-26T15:42:37.108585Z",
     "iopub.status.idle": "2020-08-26T15:42:37.117585Z",
     "shell.execute_reply": "2020-08-26T15:42:37.118148Z"
    },
    "papermill": {
     "duration": 0.026678,
     "end_time": "2020-08-26T15:42:37.118298",
     "exception": false,
     "start_time": "2020-08-26T15:42:37.091620",
     "status": "completed"
    },
    "tags": []
   },
   "outputs": [],
   "source": [
    "#Dataset with features selected by Lasso\n",
    "lasso_Xtrain = X_train.loc[:,lasso_selected_features]\n",
    "lasso_Xvalid = X_valid.loc[:,lasso_selected_features]\n",
    "lasso_Xtest = X_test.loc[:,lasso_selected_features]"
   ]
  },
  {
   "cell_type": "code",
   "execution_count": 17,
   "metadata": {
    "execution": {
     "iopub.execute_input": "2020-08-26T15:42:37.150911Z",
     "iopub.status.busy": "2020-08-26T15:42:37.150274Z",
     "iopub.status.idle": "2020-08-26T15:42:39.322803Z",
     "shell.execute_reply": "2020-08-26T15:42:39.322123Z"
    },
    "papermill": {
     "duration": 2.190019,
     "end_time": "2020-08-26T15:42:39.322916",
     "exception": false,
     "start_time": "2020-08-26T15:42:37.132897",
     "status": "completed"
    },
    "tags": []
   },
   "outputs": [
    {
     "data": {
      "text/plain": [
       "Index(['bluetotalgold', 'bluegolddiff', 'blueexperiencediff', 'bluegoldpermin',\n",
       "       'redgolddiff', 'redexperiencediff'],\n",
       "      dtype='object')"
      ]
     },
     "execution_count": 17,
     "metadata": {},
     "output_type": "execute_result"
    }
   ],
   "source": [
    "# Feature selection based on SelectKBest\n",
    "select_k_best_classifier = SelectKBest(score_func=mutual_info_classif, k=6)\n",
    "select_k_best_classifier.fit_transform(X_train, y_train)\n",
    "mask = select_k_best_classifier.get_support()\n",
    "\n",
    "kbest_selected_features = X_train.columns[mask]\n",
    "kbest_selected_features"
   ]
  },
  {
   "cell_type": "code",
   "execution_count": 18,
   "metadata": {
    "execution": {
     "iopub.execute_input": "2020-08-26T15:42:39.361183Z",
     "iopub.status.busy": "2020-08-26T15:42:39.360499Z",
     "iopub.status.idle": "2020-08-26T15:42:39.363980Z",
     "shell.execute_reply": "2020-08-26T15:42:39.363423Z"
    },
    "papermill": {
     "duration": 0.026334,
     "end_time": "2020-08-26T15:42:39.364089",
     "exception": false,
     "start_time": "2020-08-26T15:42:39.337755",
     "status": "completed"
    },
    "tags": []
   },
   "outputs": [],
   "source": [
    "#Dataset with features selected by Kbest\n",
    "kbest_Xtrain = X_train.loc[:,kbest_selected_features]\n",
    "kbest_Xvalid = X_valid.loc[:,kbest_selected_features]\n",
    "kbest_Xtest = X_test.loc[:,kbest_selected_features]"
   ]
  },
  {
   "cell_type": "markdown",
   "metadata": {
    "papermill": {
     "duration": 0.014112,
     "end_time": "2020-08-26T15:42:39.392871",
     "exception": false,
     "start_time": "2020-08-26T15:42:39.378759",
     "status": "completed"
    },
    "tags": []
   },
   "source": [
    "## Logistic Regression"
   ]
  },
  {
   "cell_type": "code",
   "execution_count": 19,
   "metadata": {
    "execution": {
     "iopub.execute_input": "2020-08-26T15:42:39.429033Z",
     "iopub.status.busy": "2020-08-26T15:42:39.428346Z",
     "iopub.status.idle": "2020-08-26T15:42:39.478942Z",
     "shell.execute_reply": "2020-08-26T15:42:39.478341Z"
    },
    "papermill": {
     "duration": 0.071852,
     "end_time": "2020-08-26T15:42:39.479055",
     "exception": false,
     "start_time": "2020-08-26T15:42:39.407203",
     "status": "completed"
    },
    "tags": []
   },
   "outputs": [],
   "source": [
    "#Training logistic regression model on features selected by lasso\n",
    "lasso_lr= LogisticRegression()\n",
    "lasso_lr.fit(lasso_Xtrain,y_train)\n",
    "lasso_ypred=lasso_lr.predict(lasso_Xvalid)"
   ]
  },
  {
   "cell_type": "code",
   "execution_count": 20,
   "metadata": {
    "execution": {
     "iopub.execute_input": "2020-08-26T15:42:39.521877Z",
     "iopub.status.busy": "2020-08-26T15:42:39.520878Z",
     "iopub.status.idle": "2020-08-26T15:42:39.688170Z",
     "shell.execute_reply": "2020-08-26T15:42:39.688684Z"
    },
    "papermill": {
     "duration": 0.190497,
     "end_time": "2020-08-26T15:42:39.688837",
     "exception": false,
     "start_time": "2020-08-26T15:42:39.498340",
     "status": "completed"
    },
    "tags": []
   },
   "outputs": [
    {
     "data": {
      "text/plain": [
       "<sklearn.metrics._plot.confusion_matrix.ConfusionMatrixDisplay at 0x7fbf2a09e290>"
      ]
     },
     "execution_count": 20,
     "metadata": {},
     "output_type": "execute_result"
    },
    {
     "data": {
      "image/png": "[encoded data removed]",
      "text/plain": [
       "<Figure size 432x288 with 2 Axes>"
      ]
     },
     "metadata": {
      "needs_background": "light"
     },
     "output_type": "display_data"
    }
   ],
   "source": [
    " plot_confusion_matrix(lasso_lr, lasso_Xvalid, y_valid) "
   ]
  },
  {
   "cell_type": "code",
   "execution_count": 21,
   "metadata": {
    "execution": {
     "iopub.execute_input": "2020-08-26T15:42:39.727067Z",
     "iopub.status.busy": "2020-08-26T15:42:39.726063Z",
     "iopub.status.idle": "2020-08-26T15:42:39.884407Z",
     "shell.execute_reply": "2020-08-26T15:42:39.884946Z"
    },
    "papermill": {
     "duration": 0.181032,
     "end_time": "2020-08-26T15:42:39.885089",
     "exception": false,
     "start_time": "2020-08-26T15:42:39.704057",
     "status": "completed"
    },
    "tags": []
   },
   "outputs": [
    {
     "data": {
      "text/plain": [
       "<sklearn.metrics._plot.confusion_matrix.ConfusionMatrixDisplay at 0x7fbf292f4d50>"
      ]
     },
     "execution_count": 21,
     "metadata": {},
     "output_type": "execute_result"
    },
    {
     "data": {
      "image/png": "[encoded data removed]",
      "text/plain": [
       "<Figure size 432x288 with 2 Axes>"
      ]
     },
     "metadata": {
      "needs_background": "light"
     },
     "output_type": "display_data"
    }
   ],
   "source": [
    "plot_confusion_matrix(lasso_lr, lasso_Xtest, y_test) "
   ]
  },
  {
   "cell_type": "code",
   "execution_count": 22,
   "metadata": {
    "execution": {
     "iopub.execute_input": "2020-08-26T15:42:39.919575Z",
     "iopub.status.busy": "2020-08-26T15:42:39.918925Z",
     "iopub.status.idle": "2020-08-26T15:42:39.926814Z",
     "shell.execute_reply": "2020-08-26T15:42:39.925920Z"
    },
    "papermill": {
     "duration": 0.026379,
     "end_time": "2020-08-26T15:42:39.927008",
     "exception": false,
     "start_time": "2020-08-26T15:42:39.900629",
     "status": "completed"
    },
    "tags": []
   },
   "outputs": [
    {
     "name": "stdout",
     "output_type": "stream",
     "text": [
      "Accuracy:  0.7317813765182186\n"
     ]
    }
   ],
   "source": [
    "#checking accuracy of regression model on validation data set with features selected by lasso \n",
    "print('Accuracy: ',metrics.accuracy_score(y_valid, lasso_ypred))\n",
    "plt.show()"
   ]
  },
  {
   "cell_type": "code",
   "execution_count": 23,
   "metadata": {
    "execution": {
     "iopub.execute_input": "2020-08-26T15:42:39.967316Z",
     "iopub.status.busy": "2020-08-26T15:42:39.966554Z",
     "iopub.status.idle": "2020-08-26T15:42:40.009578Z",
     "shell.execute_reply": "2020-08-26T15:42:40.010261Z"
    },
    "papermill": {
     "duration": 0.066725,
     "end_time": "2020-08-26T15:42:40.010435",
     "exception": false,
     "start_time": "2020-08-26T15:42:39.943710",
     "status": "completed"
    },
    "tags": []
   },
   "outputs": [],
   "source": [
    "#Training logistic regression model on test data set to check the accuracy\n",
    "lasso_lr= LogisticRegression()\n",
    "lasso_lr.fit(lasso_Xtrain,y_train)\n",
    "lasso_ypredtest=lasso_lr.predict(lasso_Xtest)"
   ]
  },
  {
   "cell_type": "code",
   "execution_count": 24,
   "metadata": {
    "execution": {
     "iopub.execute_input": "2020-08-26T15:42:40.047641Z",
     "iopub.status.busy": "2020-08-26T15:42:40.046652Z",
     "iopub.status.idle": "2020-08-26T15:42:40.053638Z",
     "shell.execute_reply": "2020-08-26T15:42:40.054199Z"
    },
    "papermill": {
     "duration": 0.027447,
     "end_time": "2020-08-26T15:42:40.054355",
     "exception": false,
     "start_time": "2020-08-26T15:42:40.026908",
     "status": "completed"
    },
    "tags": []
   },
   "outputs": [
    {
     "name": "stdout",
     "output_type": "stream",
     "text": [
      "Accuracy : 0.7226720647773279\n"
     ]
    }
   ],
   "source": [
    "print('Accuracy :',metrics.accuracy_score(y_test,lasso_ypredtest))"
   ]
  },
  {
   "cell_type": "code",
   "execution_count": 25,
   "metadata": {
    "execution": {
     "iopub.execute_input": "2020-08-26T15:42:40.091454Z",
     "iopub.status.busy": "2020-08-26T15:42:40.090418Z",
     "iopub.status.idle": "2020-08-26T15:42:40.123573Z",
     "shell.execute_reply": "2020-08-26T15:42:40.124150Z"
    },
    "papermill": {
     "duration": 0.05373,
     "end_time": "2020-08-26T15:42:40.124302",
     "exception": false,
     "start_time": "2020-08-26T15:42:40.070572",
     "status": "completed"
    },
    "tags": []
   },
   "outputs": [],
   "source": [
    "#Training logistic regression model on validation dataset with features from kbest\n",
    "kbest_lr= LogisticRegression()\n",
    "kbest_lr.fit(kbest_Xtrain,y_train)\n",
    "kbest_ypred=kbest_lr.predict(kbest_Xvalid)"
   ]
  },
  {
   "cell_type": "code",
   "execution_count": 26,
   "metadata": {
    "execution": {
     "iopub.execute_input": "2020-08-26T15:42:40.165177Z",
     "iopub.status.busy": "2020-08-26T15:42:40.164169Z",
     "iopub.status.idle": "2020-08-26T15:42:40.324016Z",
     "shell.execute_reply": "2020-08-26T15:42:40.324554Z"
    },
    "papermill": {
     "duration": 0.180275,
     "end_time": "2020-08-26T15:42:40.324700",
     "exception": false,
     "start_time": "2020-08-26T15:42:40.144425",
     "status": "completed"
    },
    "tags": []
   },
   "outputs": [
    {
     "data": {
      "text/plain": [
       "<sklearn.metrics._plot.confusion_matrix.ConfusionMatrixDisplay at 0x7fbf29245490>"
      ]
     },
     "execution_count": 26,
     "metadata": {},
     "output_type": "execute_result"
    },
    {
     "data": {
      "image/png": "[encoded data removed]",
      "text/plain": [
       "<Figure size 432x288 with 2 Axes>"
      ]
     },
     "metadata": {
      "needs_background": "light"
     },
     "output_type": "display_data"
    }
   ],
   "source": [
    " plot_confusion_matrix(kbest_lr, kbest_Xvalid, y_valid) "
   ]
  },
  {
   "cell_type": "code",
   "execution_count": 27,
   "metadata": {
    "execution": {
     "iopub.execute_input": "2020-08-26T15:42:40.360991Z",
     "iopub.status.busy": "2020-08-26T15:42:40.360003Z",
     "iopub.status.idle": "2020-08-26T15:42:40.515952Z",
     "shell.execute_reply": "2020-08-26T15:42:40.516456Z"
    },
    "papermill": {
     "duration": 0.175717,
     "end_time": "2020-08-26T15:42:40.516605",
     "exception": false,
     "start_time": "2020-08-26T15:42:40.340888",
     "status": "completed"
    },
    "tags": []
   },
   "outputs": [
    {
     "data": {
      "text/plain": [
       "<sklearn.metrics._plot.confusion_matrix.ConfusionMatrixDisplay at 0x7fbf292535d0>"
      ]
     },
     "execution_count": 27,
     "metadata": {},
     "output_type": "execute_result"
    },
    {
     "data": {
      "image/png": "[encoded data removed]",
      "text/plain": [
       "<Figure size 432x288 with 2 Axes>"
      ]
     },
     "metadata": {
      "needs_background": "light"
     },
     "output_type": "display_data"
    }
   ],
   "source": [
    "plot_confusion_matrix(kbest_lr, kbest_Xtest, y_test) "
   ]
  },
  {
   "cell_type": "code",
   "execution_count": 28,
   "metadata": {
    "execution": {
     "iopub.execute_input": "2020-08-26T15:42:40.554522Z",
     "iopub.status.busy": "2020-08-26T15:42:40.553483Z",
     "iopub.status.idle": "2020-08-26T15:42:40.562926Z",
     "shell.execute_reply": "2020-08-26T15:42:40.562161Z"
    },
    "papermill": {
     "duration": 0.029871,
     "end_time": "2020-08-26T15:42:40.563096",
     "exception": false,
     "start_time": "2020-08-26T15:42:40.533225",
     "status": "completed"
    },
    "tags": []
   },
   "outputs": [
    {
     "name": "stdout",
     "output_type": "stream",
     "text": [
      "Accuracy:  0.7236842105263158\n"
     ]
    }
   ],
   "source": [
    "#checking accuracy of regression model with features selected by kbest \n",
    "print('Accuracy: ',metrics.accuracy_score(y_valid, kbest_ypred))\n",
    "plt.show()"
   ]
  },
  {
   "cell_type": "code",
   "execution_count": 29,
   "metadata": {
    "execution": {
     "iopub.execute_input": "2020-08-26T15:42:40.606162Z",
     "iopub.status.busy": "2020-08-26T15:42:40.605470Z",
     "iopub.status.idle": "2020-08-26T15:42:40.635230Z",
     "shell.execute_reply": "2020-08-26T15:42:40.635904Z"
    },
    "papermill": {
     "duration": 0.054958,
     "end_time": "2020-08-26T15:42:40.636081",
     "exception": false,
     "start_time": "2020-08-26T15:42:40.581123",
     "status": "completed"
    },
    "tags": []
   },
   "outputs": [],
   "source": [
    "#Training logistic regression model on test dataset with features from kbest\n",
    "kbest_lr= LogisticRegression()\n",
    "kbest_lr.fit(kbest_Xtrain,y_train)\n",
    "kbest_ypredtest=kbest_lr.predict(kbest_Xtest)"
   ]
  },
  {
   "cell_type": "code",
   "execution_count": 30,
   "metadata": {
    "execution": {
     "iopub.execute_input": "2020-08-26T15:42:40.677512Z",
     "iopub.status.busy": "2020-08-26T15:42:40.676405Z",
     "iopub.status.idle": "2020-08-26T15:42:40.684729Z",
     "shell.execute_reply": "2020-08-26T15:42:40.685517Z"
    },
    "papermill": {
     "duration": 0.029287,
     "end_time": "2020-08-26T15:42:40.685729",
     "exception": false,
     "start_time": "2020-08-26T15:42:40.656442",
     "status": "completed"
    },
    "tags": []
   },
   "outputs": [
    {
     "name": "stdout",
     "output_type": "stream",
     "text": [
      "Accuracy:  0.7160931174089069\n"
     ]
    }
   ],
   "source": [
    "print('Accuracy: ',metrics.accuracy_score(y_test,kbest_ypredtest))"
   ]
  }
 ],
 "metadata": {
  "kernelspec": {
   "display_name": "Python 3",
   "language": "python",
   "name": "python3"
  },
  "language_info": {
   "codemirror_mode": {
    "name": "ipython",
    "version": 3
   },
   "file_extension": ".py",
   "mimetype": "text/x-python",
   "name": "python",
   "nbconvert_exporter": "python",
   "pygments_lexer": "ipython3",
   "version": "3.6.7"
  },
  "papermill": {
   "duration": 16.641367,
   "end_time": "2020-08-26T15:42:40.810640",
   "environment_variables": {},
   "exception": null,
   "input_path": "__notebook__.ipynb",
   "output_path": "__notebook__.ipynb",
   "parameters": {},
   "start_time": "2020-08-26T15:42:24.169273",
   "version": "2.1.0"
  }
 },
 "nbformat": 4,
 "nbformat_minor": 4
}
